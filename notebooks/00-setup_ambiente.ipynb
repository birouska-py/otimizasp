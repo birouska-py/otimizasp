{
 "cells": [
  {
   "cell_type": "markdown",
   "metadata": {},
   "source": [
    "## Instalando as bibliotecas do delta-spark"
   ]
  },
  {
   "cell_type": "code",
   "execution_count": 1,
   "metadata": {},
   "outputs": [
    {
     "name": "stdout",
     "output_type": "stream",
     "text": [
      "Collecting package metadata (current_repodata.json): done\n",
      "Solving environment: done\n",
      "\n",
      "\n",
      "==> WARNING: A newer version of conda exists. <==\n",
      "  current version: 23.9.0\n",
      "  latest version: 24.7.1\n",
      "\n",
      "Please update conda by running\n",
      "\n",
      "    $ conda update -n base -c conda-forge conda\n",
      "\n",
      "Or to minimize the number of packages updated during conda update use\n",
      "\n",
      "     conda install conda=24.7.1\n",
      "\n",
      "\n",
      "\n",
      "## Package Plan ##\n",
      "\n",
      "  environment location: /opt/conda\n",
      "\n",
      "  added / updated specs:\n",
      "    - delta-spark\n",
      "\n",
      "\n",
      "The following packages will be downloaded:\n",
      "\n",
      "    package                    |            build\n",
      "    ---------------------------|-----------------\n",
      "    ca-certificates-2024.8.30  |       hbcca054_0         155 KB  conda-forge\n",
      "    certifi-2024.8.30          |     pyhd8ed1ab_0         160 KB  conda-forge\n",
      "    delta-spark-3.0.0          |     pyhd8ed1ab_0          23 KB  conda-forge\n",
      "    py4j-0.10.9.7              |     pyhd8ed1ab_0         182 KB  conda-forge\n",
      "    pyspark-3.5.1              |     pyhd8ed1ab_0       296.3 MB  conda-forge\n",
      "    ------------------------------------------------------------\n",
      "                                           Total:       296.8 MB\n",
      "\n",
      "The following NEW packages will be INSTALLED:\n",
      "\n",
      "  delta-spark        conda-forge/noarch::delta-spark-3.0.0-pyhd8ed1ab_0 \n",
      "  py4j               conda-forge/noarch::py4j-0.10.9.7-pyhd8ed1ab_0 \n",
      "  pyspark            conda-forge/noarch::pyspark-3.5.1-pyhd8ed1ab_0 \n",
      "\n",
      "The following packages will be UPDATED:\n",
      "\n",
      "  ca-certificates                      2023.7.22-hbcca054_0 --> 2024.8.30-hbcca054_0 \n",
      "  certifi                            2023.7.22-pyhd8ed1ab_0 --> 2024.8.30-pyhd8ed1ab_0 \n",
      "\n",
      "\n",
      "\n",
      "Downloading and Extracting Packages:\n",
      "pyspark-3.5.1        | 296.3 MB  |                                       |   0% \n",
      "ca-certificates-2024 | 155 KB    |                                       |   0% \u001b[A\n",
      "\n",
      "certifi-2024.8.30    | 160 KB    |                                       |   0% \u001b[A\u001b[A\n",
      "\n",
      "\n",
      "delta-spark-3.0.0    | 23 KB     |                                       |   0% \u001b[A\u001b[A\u001b[A\n",
      "\n",
      "\n",
      "\n",
      "pyspark-3.5.1        | 296.3 MB  |                                       |   0% \u001b[A\u001b[A\u001b[A\u001b[A\n",
      "ca-certificates-2024 | 155 KB    | ###8                                  |  10% \u001b[A\n",
      "\n",
      "\n",
      "delta-spark-3.0.0    | 23 KB     | ##########################            |  70% \u001b[A\u001b[A\u001b[A\n",
      "\n",
      "\n",
      "delta-spark-3.0.0    | 23 KB     | ##################################### | 100% \u001b[A\u001b[A\u001b[A\n",
      "\n",
      "certifi-2024.8.30    | 160 KB    | ###7                                  |  10% \u001b[A\u001b[A\n",
      "ca-certificates-2024 | 155 KB    | ##################################### | 100% \u001b[A\n",
      "\n",
      "\n",
      "\n",
      "pyspark-3.5.1        | 296.3 MB  | 1                                     |   1% \u001b[A\u001b[A\u001b[A\u001b[A\n",
      "\n",
      "certifi-2024.8.30    | 160 KB    | ##################################### | 100% \u001b[A\u001b[A\n",
      "\n",
      "\n",
      "\n",
      "                                                                                \u001b[A\u001b[A\u001b[A\u001b[A\n",
      "                                                                                \u001b[A\n",
      "\n",
      "                                                                                \u001b[A\u001b[A\n",
      "\n",
      "\n",
      "                                                                                \u001b[A\u001b[A\u001b[A\n",
      "\n",
      "\n",
      "\n",
      "                                                                                \u001b[A\u001b[A\u001b[A\u001b[A\n",
      "Preparing transaction: done\n",
      "Verifying transaction: done\n",
      "Executing transaction: done\n"
     ]
    }
   ],
   "source": [
    "! conda install -c conda-forge delta-spark -y"
   ]
  },
  {
   "cell_type": "code",
   "execution_count": 2,
   "metadata": {},
   "outputs": [
    {
     "name": "stdout",
     "output_type": "stream",
     "text": [
      "Collecting package metadata (current_repodata.json): done\n",
      "Solving environment: unsuccessful attempt using repodata from current_repodata.json, retrying with next repodata source.\n",
      "Solving environment: | ^C\n",
      "unsuccessful attempt using repodata from current_repodata.json, retrying with next repodata source.\n",
      "\n",
      "CondaError: KeyboardInterrupt\n",
      "\n"
     ]
    }
   ],
   "source": [
    "! conda update -n base -c conda-forge conda -y"
   ]
  }
 ],
 "metadata": {
  "kernelspec": {
   "display_name": "Python 3 (ipykernel)",
   "language": "python",
   "name": "python3"
  }
 },
 "nbformat": 4,
 "nbformat_minor": 2
}
