{
 "cells": [
  {
   "cell_type": "code",
   "execution_count": 17,
   "metadata": {},
   "outputs": [],
   "source": [
    "from pyspark.sql import SparkSession"
   ]
  },
  {
   "cell_type": "code",
   "execution_count": 18,
   "metadata": {},
   "outputs": [],
   "source": [
    "spark_server = \"spark://spark-master-otmzsp:7077\"\n",
    "minio_server = \"http://minio-otmzsp:9000\" \n",
    "data_inicio_processamento = \"2024-09-23 21:00:00\""
   ]
  },
  {
   "cell_type": "code",
   "execution_count": 19,
   "metadata": {},
   "outputs": [],
   "source": [
    "spark = SparkSession.builder \\\n",
    "    .appName(\"Processa Posições Trusted\") \\\n",
    "    .master(spark_server) \\\n",
    "    .config(\"spark.jars.packages\", \"io.delta:delta-spark_2.12:3.1.0,org.apache.hadoop:hadoop-aws:3.3.4,org.elasticsearch:elasticsearch-spark-30_2.12:7.17.24\") \\\n",
    "    .config(\"spark.hadoop.fs.s3a.access.key\", \"admin\") \\\n",
    "    .config(\"spark.hadoop.fs.s3a.secret.key\", \"minioadmin\") \\\n",
    "    .config(\"spark.hadoop.fs.s3a.endpoint\", minio_server) \\\n",
    "    .config(\"spark.hadoop.fs.s3a.connection.ssl.enabled\", \"false\") \\\n",
    "    .config(\"spark.hadoop.fs.s3a.path.style.access\", \"true\") \\\n",
    "    .config(\"spark.hadoop.fs.s3a.impl\", \"org.apache.hadoop.fs.s3a.S3AFileSystem\") \\\n",
    "    .config(\"spark.sql.extensions\", \"io.delta.sql.DeltaSparkSessionExtension\") \\\n",
    "    .config(\"spark.sql.catalog.spark_catalog\", \"org.apache.spark.sql.delta.catalog.DeltaCatalog\") \\\n",
    "    .config(\"es.nodes.wan.only\", \"true\") \\\n",
    "    .config(\"es.nodes\", \"elasticsearch-otmzsp:9200\") \\\n",
    "    .getOrCreate()"
   ]
  },
  {
   "cell_type": "code",
   "execution_count": 20,
   "metadata": {},
   "outputs": [
    {
     "data": {
      "text/html": [
       "\n",
       "            <div>\n",
       "                <p><b>SparkSession - in-memory</b></p>\n",
       "                \n",
       "        <div>\n",
       "            <p><b>SparkContext</b></p>\n",
       "\n",
       "            <p><a href=\"http://b498eb9c187b:4041\">Spark UI</a></p>\n",
       "\n",
       "            <dl>\n",
       "              <dt>Version</dt>\n",
       "                <dd><code>v3.5.0</code></dd>\n",
       "              <dt>Master</dt>\n",
       "                <dd><code>spark://spark-master-otmzsp:7077</code></dd>\n",
       "              <dt>AppName</dt>\n",
       "                <dd><code>Processa Posições Trusted</code></dd>\n",
       "            </dl>\n",
       "        </div>\n",
       "        \n",
       "            </div>\n",
       "        "
      ],
      "text/plain": [
       "<pyspark.sql.session.SparkSession at 0x77a4356934d0>"
      ]
     },
     "execution_count": 20,
     "metadata": {},
     "output_type": "execute_result"
    }
   ],
   "source": [
    "spark"
   ]
  },
  {
   "cell_type": "code",
   "execution_count": 21,
   "metadata": {},
   "outputs": [],
   "source": [
    "trusted = 's3a://trusted/posicoes'\n",
    "checkpoint = 's3a://trusted/posicoes_checkpoint_leitura'"
   ]
  },
  {
   "cell_type": "code",
   "execution_count": 22,
   "metadata": {},
   "outputs": [],
   "source": [
    "try:\n",
    "    from elasticsearch import Elasticsearch\n",
    "except ImportError:\n",
    "    import subprocess\n",
    "    import sys\n",
    "    subprocess.check_call([sys.executable, \"-m\", \"pip\", \"install\", \"elasticsearch\"])\n",
    "    from elasticsearch import Elasticsearch\n"
   ]
  },
  {
   "cell_type": "code",
   "execution_count": 23,
   "metadata": {},
   "outputs": [],
   "source": [
    "# Configurações\n",
    "ES_URL = \"http://elasticsearch-otmzsp:9200\"  # URL do Elasticsearch\n",
    "KIBANA_URL = \"http://kibana-otmzsp:5601\"\n",
    "# Nome index pattern\n",
    "INDEX_NAME = \"posicoes_full\"  # Nome do índice\n",
    "INDEX_PATTERN_NAME = INDEX_NAME#+\"-*\""
   ]
  },
  {
   "cell_type": "code",
   "execution_count": 24,
   "metadata": {},
   "outputs": [
    {
     "name": "stdout",
     "output_type": "stream",
     "text": [
      "O índice 'posicoes_full' já existe.\n"
     ]
    }
   ],
   "source": [
    "import requests\n",
    "\n",
    "# Conectar ao Elasticsearch\n",
    "es = Elasticsearch(ES_URL)  # ajuste a URL se necessário\n",
    "\n",
    "# Verificar se o índice existe\n",
    "if not es.indices.exists(index=INDEX_NAME):\n",
    "    # Mapeamento do índice\n",
    "    mapping = {\n",
    "                \"mappings\": {\n",
    "                    \"properties\": {\n",
    "                    \"id\": {\n",
    "                        \"type\": \"keyword\"\n",
    "                    },\n",
    "                    \"veiculo_horario_referencia\": {\n",
    "                        \"type\": \"date\"\n",
    "                    },\n",
    "                    \"veiculo_letreiro_completo\": {\n",
    "                        \"type\": \"text\",\n",
    "                        \"fields\": {\n",
    "                        \"keyword\": {\n",
    "                            \"type\": \"keyword\",\n",
    "                            \"ignore_above\": 256\n",
    "                        }\n",
    "                        }\n",
    "                    },\n",
    "                    \"veiculo_linha_codigo\": {\n",
    "                        \"type\": \"text\",\n",
    "                        \"fields\": {\n",
    "                        \"keyword\": {\n",
    "                            \"type\": \"keyword\",\n",
    "                            \"ignore_above\": 256\n",
    "                        }\n",
    "                        }\n",
    "                    },\n",
    "                    \"veiculo_acessibilidade\": {\n",
    "                        \"type\": \"text\",\n",
    "                        \"fields\": {\n",
    "                        \"keyword\": {\n",
    "                            \"type\": \"keyword\",\n",
    "                            \"ignore_above\": 256\n",
    "                        }\n",
    "                        }\n",
    "                    },\n",
    "                    \"veiculo_sentido\": {\n",
    "                        \"type\": \"text\",\n",
    "                        \"fields\": {\n",
    "                        \"keyword\": {\n",
    "                            \"type\": \"keyword\",\n",
    "                            \"ignore_above\": 256\n",
    "                        }\n",
    "                        }\n",
    "                    },\n",
    "                    \"veiculo_letreiro_destino\": {\n",
    "                        \"type\": \"text\",\n",
    "                        \"fields\": {\n",
    "                        \"keyword\": {\n",
    "                            \"type\": \"keyword\",\n",
    "                            \"ignore_above\": 256\n",
    "                        }\n",
    "                        }\n",
    "                    },\n",
    "                    \"veiculo_letreiro_origem\": {\n",
    "                        \"type\": \"text\",\n",
    "                        \"fields\": {\n",
    "                        \"keyword\": {\n",
    "                            \"type\": \"keyword\",\n",
    "                            \"ignore_above\": 256\n",
    "                        }\n",
    "                        }\n",
    "                    },\n",
    "                    \"qtde_veiculos_linha\": {\n",
    "                        \"type\": \"long\"\n",
    "                    },\n",
    "                    \"veiculo_prefixo\": {\n",
    "                        \"type\": \"text\",\n",
    "                        \"fields\": {\n",
    "                        \"keyword\": {\n",
    "                            \"type\": \"keyword\",\n",
    "                            \"ignore_above\": 256\n",
    "                        }\n",
    "                        }\n",
    "                    },\n",
    "                    \"veiculo_horario_utc_captura\": {\n",
    "                        \"type\": \"date\"\n",
    "                    },\n",
    "                    \"veiculo_latitude\": {\n",
    "                        \"type\": \"float\"\n",
    "                    },\n",
    "                    \"veiculo_longitude\": {\n",
    "                        \"type\": \"float\"\n",
    "                    },\n",
    "                    \"veiculo_horario_local_captura\": {\n",
    "                        \"type\": \"date\"\n",
    "                    },\n",
    "                    \"tipo_operacao_linha\": {\n",
    "                        \"type\": \"text\"\n",
    "                    },\n",
    "                    \"position\": {\n",
    "                        \"type\": \"geo_point\"\n",
    "                    },\n",
    "                    \"Prefixo Veículo\": {\n",
    "                        \"type\": \"alias\",\n",
    "                        \"path\": \"veiculo_prefixo\"\n",
    "                    },\n",
    "                    \"Letreiro\": {\n",
    "                        \"type\": \"alias\",\n",
    "                        \"path\": \"veiculo_letreiro_completo\"\n",
    "                    },\n",
    "                    \"Origem\": {\n",
    "                        \"type\": \"alias\",\n",
    "                        \"path\": \"veiculo_letreiro_origem\"\n",
    "                    },\n",
    "                    \"Destino\": {\n",
    "                        \"type\": \"alias\",\n",
    "                        \"path\": \"veiculo_letreiro_destino\"\n",
    "                    },\n",
    "                    \"Sentido\": {\n",
    "                        \"type\": \"alias\",\n",
    "                        \"path\": \"veiculo_sentido\"\n",
    "                    },\n",
    "                    \"Acessibilidade\": {\n",
    "                        \"type\": \"alias\",\n",
    "                        \"path\": \"veiculo_acessibilidade\"\n",
    "                    },\n",
    "                    \"Data/Hora\": {\n",
    "                        \"type\": \"alias\",\n",
    "                        \"path\": \"veiculo_horario_utc_captura\"\n",
    "                    }\n",
    "                }\n",
    "            }\n",
    "        }\n",
    "\n",
    "\n",
    "    # Criar o índice com o mapeamento\n",
    "    es.indices.create(index=INDEX_NAME, body=mapping)\n",
    "    print(f\"Índice '{INDEX_NAME}' criado com sucesso.\")\n",
    "else:\n",
    "    print(f\"O índice '{INDEX_NAME}' já existe.\")\n",
    "\n"
   ]
  },
  {
   "cell_type": "code",
   "execution_count": 25,
   "metadata": {},
   "outputs": [
    {
     "name": "stdout",
     "output_type": "stream",
     "text": [
      "Padrão de índice 'posicoes_full' já existe.\n"
     ]
    }
   ],
   "source": [
    "TIME_FIELD_NAME = \"veiculo_horario_local_captura\" \n",
    "\n",
    "# Verificar se o padrão de índice existe no Kibana\n",
    "headers = {\"kbn-xsrf\": \"true\"}\n",
    "response = requests.get(f\"{KIBANA_URL}/api/saved_objects/_find?type=index-pattern&search_fields=title&search={INDEX_PATTERN_NAME}\", headers=headers)\n",
    "\n",
    "if response.status_code == 200:\n",
    "    data = response.json()\n",
    "    if len(data['saved_objects']) == 0:\n",
    "        # Criar o padrão de índice se não existir\n",
    "        payload = {\n",
    "            \"attributes\": {\n",
    "                \"title\": INDEX_PATTERN_NAME,\n",
    "                \"timeFieldName\": TIME_FIELD_NAME\n",
    "            }\n",
    "        }\n",
    "        create_response = requests.post(f\"{KIBANA_URL}/api/saved_objects/index-pattern\", json=payload, headers=headers)\n",
    "\n",
    "        if create_response.status_code == 200:\n",
    "            print(f\"Padrão de índice '{INDEX_PATTERN_NAME}' criado com sucesso.\")\n",
    "        else:\n",
    "            print(f\"Erro ao criar padrão de índice: {create_response.text}\")\n",
    "    else:\n",
    "        print(f\"Padrão de índice '{INDEX_PATTERN_NAME}' já existe.\")\n",
    "else:\n",
    "    print(f\"Erro ao verificar padrão de índice: {response.text}\")"
   ]
  },
  {
   "cell_type": "code",
   "execution_count": 26,
   "metadata": {},
   "outputs": [
    {
     "name": "stdout",
     "output_type": "stream",
     "text": [
      "['datepartition=2024-09-23-21']\n"
     ]
    }
   ],
   "source": [
    "from datetime import datetime, timedelta, timezone\n",
    "\n",
    "def generate_hourly_partitions(start_date_str):\n",
    "    # Converte a string de data e hora para um objeto datetime\n",
    "    start_date = datetime.strptime(start_date_str, \"%Y-%m-%d %H:%M:%S\")\n",
    "    \n",
    "    # Define o fuso horário GMT-3\n",
    "    gmt_minus_3 = timezone(timedelta(hours=-3))\n",
    "    \n",
    "    # Obtém a hora atual em GMT-3 menos 1 hora\n",
    "    now = datetime.now(gmt_minus_3)\n",
    "    \n",
    "    # Lista para armazenar as partições\n",
    "    partitions = []\n",
    "    \n",
    "    # Itera desde a data de início até a hora atual menos 1 hora\n",
    "    current = start_date.replace(tzinfo=gmt_minus_3)\n",
    "    while current <= now:\n",
    "        partition = f\"datepartition={current.strftime('%Y-%m-%d-%H')}\"\n",
    "        partitions.append(partition)\n",
    "        current += timedelta(hours=1)\n",
    "    \n",
    "    return partitions\n",
    "\n",
    "\n",
    "partitions = generate_hourly_partitions(data_inicio_processamento)\n",
    "print(partitions)"
   ]
  },
  {
   "cell_type": "code",
   "execution_count": 27,
   "metadata": {},
   "outputs": [],
   "source": [
    "from pyspark.sql.types import StructType, StructField, StringType, LongType, FloatType, TimestampType\n",
    "\n",
    "# Definindo o esquema manualmente\n",
    "schema = StructType([\n",
    "    StructField(\"veiculo_horario_referencia\", TimestampType(), True),\n",
    "    StructField(\"veiculo_letreiro_completo\", StringType(), True),\n",
    "    StructField(\"veiculo_linha_codigo\", StringType(), True),\n",
    "    StructField(\"veiculo_sentido\", StringType(), True),\n",
    "    StructField(\"veiculo_letreiro_destino\", StringType(), True),\n",
    "    StructField(\"veiculo_letreiro_origem\", StringType(), True),\n",
    "    StructField(\"qtde_veiculos_linha\", LongType(), True),\n",
    "    StructField(\"veiculo_prefixo\", LongType(), True),\n",
    "    StructField(\"veiculo_acessibilidade\", StringType(), True),\n",
    "    StructField(\"veiculo_horario_utc_captura\", TimestampType(), True),\n",
    "    StructField(\"veiculo_latitude\", FloatType(), True),\n",
    "    StructField(\"veiculo_longitude\", FloatType(), True),\n",
    "    StructField(\"veiculo_horario_local_captura\", TimestampType(), True),\n",
    "    StructField(\"tipo_operacao_linha\", StringType(), True),\n",
    "    StructField(\"id\", StringType(), True)\n",
    "])\n",
    "\n",
    "\n",
    "# Agora pode seguir com o processamento\n"
   ]
  },
  {
   "cell_type": "code",
   "execution_count": 29,
   "metadata": {},
   "outputs": [
    {
     "name": "stdout",
     "output_type": "stream",
     "text": [
      "Erro ao salvar o arquivo: [PATH_NOT_FOUND] Path does not exist: s3a://trusted/posicoes/datepartition=2024-09-23-21.\n"
     ]
    }
   ],
   "source": [
    "from pyspark.sql.utils import AnalysisException\n",
    "from pyspark.sql import functions as F\n",
    "\n",
    "for datepartition in partitions:\n",
    "    try:\n",
    "        # Criar o DataFrame de streaming\n",
    "        df_posicoes = spark.read \\\n",
    "            .option(\"header\", \"true\") \\\n",
    "            .schema(schema) \\\n",
    "            .option(\"ignoreNullFields\", \"true\") \\\n",
    "            .csv(trusted + f'/{datepartition}')\n",
    "        #df_posicoes.show()\n",
    "\n",
    "        if not df_posicoes.isEmpty():\n",
    "            df_posicoes = df_posicoes.withColumn(\n",
    "                    \"position\", \n",
    "                    F.concat(F.col(\"veiculo_latitude\").cast(\"string\"), F.lit(\",\"), F.col(\"veiculo_longitude\").cast(\"string\"))\n",
    "                )\n",
    "\n",
    "            df_posicoes.write \\\n",
    "                .format(\"org.elasticsearch.spark.sql\") \\\n",
    "                .option(\"es.net.nodes\", ES_URL) \\\n",
    "                .option(\"es.mapping.id\", \"id\") \\\n",
    "                .mode(\"append\") \\\n",
    "                .save(INDEX_NAME)\n",
    "            print(f'Escreveu no Elastic! {datepartition}')\n",
    "    except AnalysisException as e:\n",
    "        print(f\"Erro ao salvar o arquivo: {e}\")"
   ]
  },
  {
   "cell_type": "code",
   "execution_count": 32,
   "metadata": {},
   "outputs": [],
   "source": [
    "spark.stop()"
   ]
  }
 ],
 "metadata": {
  "kernelspec": {
   "display_name": "Python 3 (ipykernel)",
   "language": "python",
   "name": "python3"
  },
  "language_info": {
   "codemirror_mode": {
    "name": "ipython",
    "version": 3
   },
   "file_extension": ".py",
   "mimetype": "text/x-python",
   "name": "python",
   "nbconvert_exporter": "python",
   "pygments_lexer": "ipython3",
   "version": "3.11.6"
  }
 },
 "nbformat": 4,
 "nbformat_minor": 4
}
