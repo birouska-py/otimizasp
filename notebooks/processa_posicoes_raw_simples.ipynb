{
 "cells": [
  {
   "cell_type": "code",
   "execution_count": 1,
   "metadata": {},
   "outputs": [
    {
     "name": "stdout",
     "output_type": "stream",
     "text": [
      "3.5.0\n"
     ]
    }
   ],
   "source": [
    "import pyspark\n",
    "print(pyspark.__version__)\n"
   ]
  },
  {
   "cell_type": "code",
   "execution_count": 2,
   "metadata": {},
   "outputs": [],
   "source": [
    "from pyspark.sql import SparkSession"
   ]
  },
  {
   "cell_type": "code",
   "execution_count": 3,
   "metadata": {},
   "outputs": [],
   "source": [
    "spark_server = \"spark://spark-master-otmzsp:7077\""
   ]
  },
  {
   "cell_type": "code",
   "execution_count": 4,
   "metadata": {},
   "outputs": [],
   "source": [
    "# Configurando a sessão do Spark com as dependências e variáveis do S3A\n",
    "# .master(spark_server) \\\n",
    "# .config(\"spark.jars.packages\", \"org.apache.hadoop:hadoop-aws:3.3.4,com.amazonaws:aws-java-sdk-bundle:1.12.262\") \\\n",
    "spark = SparkSession.builder \\\n",
    "    .appName(\"MinIO Example - server - 2\") \\\n",
    "    .master(spark_server) \\\n",
    "    .config(\"spark.jars.packages\", \"io.delta:delta-spark_2.12:3.1.0,org.apache.hadoop:hadoop-aws:3.3.4\") \\\n",
    "    .config(\"spark.hadoop.fs.s3a.access.key\", \"admin\") \\\n",
    "    .config(\"spark.hadoop.fs.s3a.secret.key\", \"minioadmin\") \\\n",
    "    .config(\"spark.hadoop.fs.s3a.endpoint\", \"http://minio-otmzsp:9000\") \\\n",
    "    .config(\"spark.hadoop.fs.s3a.connection.ssl.enabled\", \"false\") \\\n",
    "    .config(\"spark.hadoop.fs.s3a.path.style.access\", \"true\") \\\n",
    "    .getOrCreate()"
   ]
  },
  {
   "cell_type": "code",
   "execution_count": 5,
   "metadata": {},
   "outputs": [
    {
     "data": {
      "text/html": [
       "\n",
       "            <div>\n",
       "                <p><b>SparkSession - in-memory</b></p>\n",
       "                \n",
       "        <div>\n",
       "            <p><b>SparkContext</b></p>\n",
       "\n",
       "            <p><a href=\"http://0762e4836905:4040\">Spark UI</a></p>\n",
       "\n",
       "            <dl>\n",
       "              <dt>Version</dt>\n",
       "                <dd><code>v3.5.0</code></dd>\n",
       "              <dt>Master</dt>\n",
       "                <dd><code>spark://spark-master-otmzsp:7077</code></dd>\n",
       "              <dt>AppName</dt>\n",
       "                <dd><code>MinIO Example - server - 2</code></dd>\n",
       "            </dl>\n",
       "        </div>\n",
       "        \n",
       "            </div>\n",
       "        "
      ],
      "text/plain": [
       "<pyspark.sql.session.SparkSession at 0x7325600e2d50>"
      ]
     },
     "execution_count": 5,
     "metadata": {},
     "output_type": "execute_result"
    }
   ],
   "source": [
    "spark"
   ]
  },
  {
   "cell_type": "code",
   "execution_count": 6,
   "metadata": {},
   "outputs": [],
   "source": [
    "raw = 's3a://raw/posicoes'\n",
    "#raw = 's3a://raw/posicoes'\n",
    "trusted = 's3a://trusted/posicoes'"
   ]
  },
  {
   "cell_type": "code",
   "execution_count": 7,
   "metadata": {},
   "outputs": [
    {
     "name": "stdout",
     "output_type": "stream",
     "text": [
      "Python 3.11.6\n"
     ]
    }
   ],
   "source": [
    "!python --version"
   ]
  },
  {
   "cell_type": "code",
   "execution_count": 9,
   "metadata": {},
   "outputs": [],
   "source": [
    "from pyspark.sql.types import StructType, StructField, StringType, IntegerType, BooleanType, ArrayType, TimestampType, FloatType\n",
    "\n",
    "# Defining the schema for the JSON\n",
    "schema = StructType([StructField(\"hr\", StringType(), True),\n",
    "                     StructField(\"l\", ArrayType(StructType([StructField(\"c\", StringType(), True),\n",
    "                                                            StructField(\"cl\", IntegerType(), True),\n",
    "                                                            StructField(\"sl\", IntegerType(), True),\n",
    "                                                            StructField(\"lt0\", StringType(), True),\n",
    "                                                            StructField(\"lt1\", StringType(), True),\n",
    "                                                            StructField(\"qv\", IntegerType(), True),\n",
    "                                                            StructField(\"vs\", ArrayType(StructType([StructField(\"p\", IntegerType(), True),\n",
    "                                                                                                    StructField(\"a\", BooleanType(), True),\n",
    "                                                                                                    StructField(\"ta\", TimestampType(), True),\n",
    "                                                                                                    StructField(\"py\", FloatType(), True),\n",
    "                                                                                                    StructField(\"px\", FloatType(), True),\n",
    "                                                                                                    StructField(\"sv\", StringType(), True),\n",
    "                                                                                                    StructField(\"is\", StringType(), True)\n",
    "                                                                                                    ])\n",
    "                                                                                        )\n",
    "                                                                        )\n",
    "                                                            ])\n",
    "                                                )\n",
    "                                )\n",
    "                    ])\n",
    "\n",
    "\n",
    "\n"
   ]
  },
  {
   "cell_type": "code",
   "execution_count": 10,
   "metadata": {},
   "outputs": [],
   "source": [
    "df = spark.read.schema(schema).json(raw)"
   ]
  },
  {
   "cell_type": "code",
   "execution_count": 11,
   "metadata": {},
   "outputs": [
    {
     "data": {
      "text/plain": [
       "DataFrame[hr: string, l: array<struct<c:string,cl:int,sl:int,lt0:string,lt1:string,qv:int,vs:array<struct<p:int,a:boolean,ta:timestamp,py:float,px:float,sv:string,is:string>>>>, datepartition: date]"
      ]
     },
     "execution_count": 11,
     "metadata": {},
     "output_type": "execute_result"
    }
   ],
   "source": [
    "df"
   ]
  },
  {
   "cell_type": "code",
   "execution_count": 12,
   "metadata": {},
   "outputs": [
    {
     "name": "stdout",
     "output_type": "stream",
     "text": [
      "+-----+--------------------+-------------+\n",
      "|   hr|                   l|datepartition|\n",
      "+-----+--------------------+-------------+\n",
      "|08:11|[{3902-10, 34238,...|   2024-09-18|\n",
      "|08:21|[{3902-10, 34238,...|   2024-09-18|\n",
      "|08:15|[{3902-10, 34238,...|   2024-09-18|\n",
      "|08:17|[{3902-10, 34238,...|   2024-09-18|\n",
      "|08:07|[{3902-10, 34238,...|   2024-09-18|\n",
      "|08:13|[{3902-10, 34238,...|   2024-09-18|\n",
      "|08:09|[{3902-10, 34238,...|   2024-09-18|\n",
      "|08:23|[{3902-10, 34238,...|   2024-09-18|\n",
      "|08:27|[{3902-10, 34238,...|   2024-09-18|\n",
      "|08:31|[{3902-10, 34238,...|   2024-09-18|\n",
      "|08:19|[{3902-10, 34238,...|   2024-09-18|\n",
      "|08:29|[{3902-10, 34238,...|   2024-09-18|\n",
      "|08:39|[{3902-10, 1470, ...|   2024-09-18|\n",
      "|08:35|[{3902-10, 1470, ...|   2024-09-18|\n",
      "|08:37|[{3902-10, 1470, ...|   2024-09-18|\n",
      "|08:41|[{3902-10, 1470, ...|   2024-09-18|\n",
      "|08:43|[{3902-10, 1470, ...|   2024-09-18|\n",
      "|08:49|[{3902-10, 1470, ...|   2024-09-18|\n",
      "|08:51|[{3902-10, 1470, ...|   2024-09-18|\n",
      "|08:53|[{3902-10, 1470, ...|   2024-09-18|\n",
      "+-----+--------------------+-------------+\n",
      "only showing top 20 rows\n",
      "\n"
     ]
    }
   ],
   "source": [
    "df.show()"
   ]
  },
  {
   "cell_type": "code",
   "execution_count": 14,
   "metadata": {},
   "outputs": [
    {
     "name": "stdout",
     "output_type": "stream",
     "text": [
      "Esquema do DataFrame final:\n",
      "root\n",
      " |-- veiculo_horario_referencia: string (nullable = true)\n",
      " |-- veiculo_letreiro_completo: string (nullable = true)\n",
      " |-- veiculo_linha_codigo: integer (nullable = true)\n",
      " |-- veiculo_sentido: integer (nullable = true)\n",
      " |-- veiculo_letreiro_destino: string (nullable = true)\n",
      " |-- veiculo_letreiro_origem: string (nullable = true)\n",
      " |-- veiculo_quantidade: integer (nullable = true)\n",
      " |-- veiculo_prefixo: integer (nullable = true)\n",
      " |-- veiculo_acessibilidade: boolean (nullable = true)\n",
      " |-- veiculo_horario_utc_captura: timestamp (nullable = true)\n",
      " |-- veiculo_latitude: float (nullable = true)\n",
      " |-- veiculo_longitude: float (nullable = true)\n",
      "\n",
      "\n",
      "Amostras do DataFrame final:\n",
      "+--------------------------+-------------------------+--------------------+---------------+------------------------+-----------------------+------------------+---------------+----------------------+---------------------------+----------------+-----------------+\n",
      "|veiculo_horario_referencia|veiculo_letreiro_completo|veiculo_linha_codigo|veiculo_sentido|veiculo_letreiro_destino|veiculo_letreiro_origem|veiculo_quantidade|veiculo_prefixo|veiculo_acessibilidade|veiculo_horario_utc_captura|veiculo_latitude|veiculo_longitude|\n",
      "+--------------------------+-------------------------+--------------------+---------------+------------------------+-----------------------+------------------+---------------+----------------------+---------------------------+----------------+-----------------+\n",
      "|08:11                     |3902-10                  |34238               |2              |CPTM GUAIANASES         |CPTM JD. ROMANO        |8                 |32110          |true                  |2024-09-18 11:10:30        |-23.489676      |-46.3754         |\n",
      "|08:11                     |3902-10                  |34238               |2              |CPTM GUAIANASES         |CPTM JD. ROMANO        |8                 |32940          |true                  |2024-09-18 11:10:45        |-23.509457      |-46.39236        |\n",
      "|08:11                     |3902-10                  |34238               |2              |CPTM GUAIANASES         |CPTM JD. ROMANO        |8                 |32746          |true                  |2024-09-18 11:10:58        |-23.537601      |-46.405968       |\n",
      "|08:11                     |3902-10                  |34238               |2              |CPTM GUAIANASES         |CPTM JD. ROMANO        |8                 |32745          |true                  |2024-09-18 11:10:50        |-23.541864      |-46.416344       |\n",
      "|08:11                     |3902-10                  |34238               |2              |CPTM GUAIANASES         |CPTM JD. ROMANO        |8                 |32413          |true                  |2024-09-18 11:10:59        |-23.522234      |-46.40957        |\n",
      "|08:11                     |3902-10                  |34238               |2              |CPTM GUAIANASES         |CPTM JD. ROMANO        |8                 |32214          |true                  |2024-09-18 11:11:06        |-23.487936      |-46.37684        |\n",
      "|08:11                     |3902-10                  |34238               |2              |CPTM GUAIANASES         |CPTM JD. ROMANO        |8                 |32425          |true                  |2024-09-18 11:10:29        |-23.484934      |-46.384754       |\n",
      "|08:11                     |3902-10                  |34238               |2              |CPTM GUAIANASES         |CPTM JD. ROMANO        |8                 |32114          |true                  |2024-09-18 11:10:33        |-23.505432      |-46.411343       |\n",
      "|08:11                     |5010-10                  |33882               |2              |STO. AMARO              |JABAQUARA              |9                 |68116          |true                  |2024-09-18 11:10:38        |-23.661167      |-46.63735        |\n",
      "|08:11                     |5010-10                  |33882               |2              |STO. AMARO              |JABAQUARA              |9                 |68434          |true                  |2024-09-18 11:10:56        |-23.644724      |-46.642166       |\n",
      "|08:11                     |5010-10                  |33882               |2              |STO. AMARO              |JABAQUARA              |9                 |68050          |true                  |2024-09-18 11:11:02        |-23.642008      |-46.655617       |\n",
      "|08:11                     |5010-10                  |33882               |2              |STO. AMARO              |JABAQUARA              |9                 |68409          |true                  |2024-09-18 11:10:25        |-23.662         |-46.63169        |\n",
      "|08:11                     |5010-10                  |33882               |2              |STO. AMARO              |JABAQUARA              |9                 |68362          |true                  |2024-09-18 11:10:55        |-23.649996      |-46.677246       |\n",
      "|08:11                     |5010-10                  |33882               |2              |STO. AMARO              |JABAQUARA              |9                 |68246          |true                  |2024-09-18 11:10:37        |-23.653986      |-46.70166        |\n",
      "|08:11                     |5010-10                  |33882               |2              |STO. AMARO              |JABAQUARA              |9                 |68142          |true                  |2024-09-18 11:10:46        |-23.639238      |-46.669468       |\n",
      "|08:11                     |5010-10                  |33882               |2              |STO. AMARO              |JABAQUARA              |9                 |68219          |true                  |2024-09-18 11:11:09        |-23.655033      |-46.691853       |\n",
      "|08:11                     |5010-10                  |33882               |2              |STO. AMARO              |JABAQUARA              |9                 |68334          |true                  |2024-09-18 11:10:36        |-23.653568      |-46.703556       |\n",
      "|08:11                     |3739-10                  |33807               |2              |METRÔ ITAQUERA          |RECANTO VERDE SOL      |12                |47249          |true                  |2024-09-18 11:10:54        |-23.612158      |-46.416187       |\n",
      "|08:11                     |3739-10                  |33807               |2              |METRÔ ITAQUERA          |RECANTO VERDE SOL      |12                |47245          |true                  |2024-09-18 11:11:02        |-23.612345      |-46.416134       |\n",
      "|08:11                     |3739-10                  |33807               |2              |METRÔ ITAQUERA          |RECANTO VERDE SOL      |12                |47828          |true                  |2024-09-18 11:10:58        |-23.578815      |-46.443115       |\n",
      "|08:11                     |3739-10                  |33807               |2              |METRÔ ITAQUERA          |RECANTO VERDE SOL      |12                |47308          |true                  |2024-09-18 11:11:02        |-23.612715      |-46.424637       |\n",
      "|08:11                     |3739-10                  |33807               |2              |METRÔ ITAQUERA          |RECANTO VERDE SOL      |12                |47302          |true                  |2024-09-18 11:11:03        |-23.596083      |-46.436638       |\n",
      "|08:11                     |3739-10                  |33807               |2              |METRÔ ITAQUERA          |RECANTO VERDE SOL      |12                |47833          |true                  |2024-09-18 11:10:59        |-23.54267       |-46.471508       |\n",
      "|08:11                     |3739-10                  |33807               |2              |METRÔ ITAQUERA          |RECANTO VERDE SOL      |12                |47573          |true                  |2024-09-18 11:11:09        |-23.598341      |-46.434067       |\n",
      "|08:11                     |3739-10                  |33807               |2              |METRÔ ITAQUERA          |RECANTO VERDE SOL      |12                |47065          |true                  |2024-09-18 11:10:40        |-23.545261      |-46.462208       |\n",
      "|08:11                     |3739-10                  |33807               |2              |METRÔ ITAQUERA          |RECANTO VERDE SOL      |12                |47107          |true                  |2024-09-18 11:10:54        |-23.61795       |-46.41144        |\n",
      "|08:11                     |3739-10                  |33807               |2              |METRÔ ITAQUERA          |RECANTO VERDE SOL      |12                |47396          |true                  |2024-09-18 11:10:43        |-23.61632       |-46.41344        |\n",
      "|08:11                     |3739-10                  |33807               |2              |METRÔ ITAQUERA          |RECANTO VERDE SOL      |12                |47012          |true                  |2024-09-18 11:10:53        |-23.56348       |-46.446312       |\n",
      "|08:11                     |3739-10                  |33807               |2              |METRÔ ITAQUERA          |RECANTO VERDE SOL      |12                |47277          |true                  |2024-09-18 11:10:33        |-23.55492       |-46.45396        |\n",
      "|08:11                     |971C-10                  |33339               |2              |METRÔ SANTANA           |COHAB BRASILÂNDIA      |6                 |21420          |true                  |2024-09-18 11:10:59        |-23.467693      |-46.677917       |\n",
      "|08:11                     |971C-10                  |33339               |2              |METRÔ SANTANA           |COHAB BRASILÂNDIA      |6                 |21918          |true                  |2024-09-18 11:10:49        |-23.437546      |-46.71745        |\n",
      "|08:11                     |971C-10                  |33339               |2              |METRÔ SANTANA           |COHAB BRASILÂNDIA      |6                 |21411          |true                  |2024-09-18 11:10:45        |-23.50118       |-46.635014       |\n",
      "|08:11                     |971C-10                  |33339               |2              |METRÔ SANTANA           |COHAB BRASILÂNDIA      |6                 |21421          |true                  |2024-09-18 11:11:00        |-23.489513      |-46.65103        |\n",
      "|08:11                     |971C-10                  |33339               |2              |METRÔ SANTANA           |COHAB BRASILÂNDIA      |6                 |21293          |true                  |2024-09-18 11:10:28        |-23.458307      |-46.690273       |\n",
      "|08:11                     |971C-10                  |33339               |2              |METRÔ SANTANA           |COHAB BRASILÂNDIA      |6                 |21940          |true                  |2024-09-18 11:10:33        |-23.449131      |-46.709846       |\n",
      "|08:11                     |311C-10                  |309                 |1              |BOM RETIRO              |PQ. SÃO LUCAS          |6                 |52911          |true                  |2024-09-18 11:10:45        |-23.589653      |-46.55291        |\n",
      "|08:11                     |311C-10                  |309                 |1              |BOM RETIRO              |PQ. SÃO LUCAS          |6                 |52128          |true                  |2024-09-18 11:10:32        |-23.532738      |-46.6315         |\n",
      "|08:11                     |311C-10                  |309                 |1              |BOM RETIRO              |PQ. SÃO LUCAS          |6                 |52919          |true                  |2024-09-18 11:10:54        |-23.562258      |-46.598022       |\n",
      "|08:11                     |311C-10                  |309                 |1              |BOM RETIRO              |PQ. SÃO LUCAS          |6                 |52156          |true                  |2024-09-18 11:10:50        |-23.519974      |-46.64996        |\n",
      "|08:11                     |311C-10                  |309                 |1              |BOM RETIRO              |PQ. SÃO LUCAS          |6                 |52908          |true                  |2024-09-18 11:10:39        |-23.585772      |-46.584297       |\n",
      "|08:11                     |311C-10                  |309                 |1              |BOM RETIRO              |PQ. SÃO LUCAS          |6                 |52913          |true                  |2024-09-18 11:10:39        |-23.534609      |-46.623993       |\n",
      "|08:11                     |978A-10                  |34137               |2              |METRÔ BARRA FUNDA       |TERM. CACHOEIRINHA     |6                 |12519          |true                  |2024-09-18 11:11:07        |-23.474438      |-46.66993        |\n",
      "|08:11                     |978A-10                  |34137               |2              |METRÔ BARRA FUNDA       |TERM. CACHOEIRINHA     |6                 |12476          |true                  |2024-09-18 11:10:55        |-23.507078      |-46.689163       |\n",
      "|08:11                     |978A-10                  |34137               |2              |METRÔ BARRA FUNDA       |TERM. CACHOEIRINHA     |6                 |12425          |true                  |2024-09-18 11:11:08        |-23.484947      |-46.680183       |\n",
      "|08:11                     |978A-10                  |34137               |2              |METRÔ BARRA FUNDA       |TERM. CACHOEIRINHA     |6                 |12555          |true                  |2024-09-18 11:10:46        |-23.518984      |-46.675735       |\n",
      "|08:11                     |978A-10                  |34137               |2              |METRÔ BARRA FUNDA       |TERM. CACHOEIRINHA     |6                 |12646          |true                  |2024-09-18 11:11:00        |-23.5024        |-46.687244       |\n",
      "|08:11                     |978A-10                  |34137               |2              |METRÔ BARRA FUNDA       |TERM. CACHOEIRINHA     |6                 |12430          |true                  |2024-09-18 11:11:04        |-23.519386      |-46.674297       |\n",
      "|08:11                     |2766-10                  |405                 |1              |METRÔ ITAQUERA          |JD. CAMARGO VELHO      |5                 |32161          |true                  |2024-09-18 11:11:03        |-23.494555      |-46.42565        |\n",
      "|08:11                     |2766-10                  |405                 |1              |METRÔ ITAQUERA          |JD. CAMARGO VELHO      |5                 |32250          |true                  |2024-09-18 11:10:45        |-23.542568      |-46.471863       |\n",
      "|08:11                     |2766-10                  |405                 |1              |METRÔ ITAQUERA          |JD. CAMARGO VELHO      |5                 |32943          |true                  |2024-09-18 11:11:01        |-23.534103      |-46.454536       |\n",
      "|08:11                     |2766-10                  |405                 |1              |METRÔ ITAQUERA          |JD. CAMARGO VELHO      |5                 |32138          |true                  |2024-09-18 11:10:54        |-23.497744      |-46.4006         |\n",
      "|08:11                     |2766-10                  |405                 |1              |METRÔ ITAQUERA          |JD. CAMARGO VELHO      |5                 |32939          |true                  |2024-09-18 11:10:43        |-23.517242      |-46.44378        |\n",
      "|08:11                     |1709-10                  |33619               |2              |METRÔ TUCURUVI          |JD. JOANA D'ARC        |10                |26011          |true                  |2024-09-18 11:10:28        |-23.440722      |-46.581562       |\n",
      "|08:11                     |1709-10                  |33619               |2              |METRÔ TUCURUVI          |JD. JOANA D'ARC        |10                |26537          |true                  |2024-09-18 11:10:37        |-23.455341      |-46.59865        |\n",
      "|08:11                     |1709-10                  |33619               |2              |METRÔ TUCURUVI          |JD. JOANA D'ARC        |10                |26020          |true                  |2024-09-18 11:11:06        |-23.458338      |-46.60241        |\n",
      "|08:11                     |1709-10                  |33619               |2              |METRÔ TUCURUVI          |JD. JOANA D'ARC        |10                |26005          |true                  |2024-09-18 11:11:08        |-23.440907      |-46.58169        |\n",
      "|08:11                     |1709-10                  |33619               |2              |METRÔ TUCURUVI          |JD. JOANA D'ARC        |10                |26303          |true                  |2024-09-18 11:10:40        |-23.479984      |-46.603935       |\n",
      "|08:11                     |1709-10                  |33619               |2              |METRÔ TUCURUVI          |JD. JOANA D'ARC        |10                |26321          |true                  |2024-09-18 11:10:34        |-23.461966      |-46.602913       |\n",
      "|08:11                     |1709-10                  |33619               |2              |METRÔ TUCURUVI          |JD. JOANA D'ARC        |10                |26031          |true                  |2024-09-18 11:10:32        |-23.440907      |-46.58169        |\n",
      "|08:11                     |1709-10                  |33619               |2              |METRÔ TUCURUVI          |JD. JOANA D'ARC        |10                |26022          |true                  |2024-09-18 11:06:47        |-23.449778      |-46.59359        |\n",
      "|08:11                     |1709-10                  |33619               |2              |METRÔ TUCURUVI          |JD. JOANA D'ARC        |10                |26266          |true                  |2024-09-18 11:10:43        |-23.450972      |-46.597015       |\n",
      "|08:11                     |1709-10                  |33619               |2              |METRÔ TUCURUVI          |JD. JOANA D'ARC        |10                |26237          |true                  |2024-09-18 11:10:49        |-23.440722      |-46.581562       |\n",
      "|08:11                     |6043-10                  |33988               |2              |TERM. STO. AMARO        |JD. CAPELINHA          |6                 |78958          |true                  |2024-09-18 11:10:57        |-23.659883      |-46.754185       |\n",
      "|08:11                     |6043-10                  |33988               |2              |TERM. STO. AMARO        |JD. CAPELINHA          |6                 |78932          |true                  |2024-09-18 11:11:06        |-23.650991      |-46.733658       |\n",
      "|08:11                     |6043-10                  |33988               |2              |TERM. STO. AMARO        |JD. CAPELINHA          |6                 |78894          |true                  |2024-09-18 11:11:04        |-23.6458        |-46.722717       |\n",
      "|08:11                     |6043-10                  |33988               |2              |TERM. STO. AMARO        |JD. CAPELINHA          |6                 |78943          |true                  |2024-09-18 11:10:57        |-23.66057       |-46.754375       |\n",
      "|08:11                     |6043-10                  |33988               |2              |TERM. STO. AMARO        |JD. CAPELINHA          |6                 |78931          |true                  |2024-09-18 11:10:27        |-23.66021       |-46.754112       |\n",
      "|08:11                     |6043-10                  |33988               |2              |TERM. STO. AMARO        |JD. CAPELINHA          |6                 |78916          |true                  |2024-09-18 11:10:41        |-23.645575      |-46.729954       |\n",
      "|08:11                     |3459-10                  |402                 |1              |TERM. PQ. D. PEDRO II   |ITAIM PAULISTA         |22                |31943          |true                  |2024-09-18 11:10:08        |-23.542442      |-46.583233       |\n",
      "|08:11                     |3459-10                  |402                 |1              |TERM. PQ. D. PEDRO II   |ITAIM PAULISTA         |22                |31833          |true                  |2024-09-18 11:10:54        |-23.547747      |-46.602455       |\n",
      "|08:11                     |3459-10                  |402                 |1              |TERM. PQ. D. PEDRO II   |ITAIM PAULISTA         |22                |31826          |true                  |2024-09-18 11:10:50        |-23.51652       |-46.3856         |\n",
      "|08:11                     |3459-10                  |402                 |1              |TERM. PQ. D. PEDRO II   |ITAIM PAULISTA         |22                |31822          |true                  |2024-09-18 11:10:34        |-23.523138      |-46.520844       |\n",
      "|08:11                     |3459-10                  |402                 |1              |TERM. PQ. D. PEDRO II   |ITAIM PAULISTA         |22                |31819          |true                  |2024-09-18 11:10:43        |-23.522024      |-46.51734        |\n",
      "|08:11                     |3459-10                  |402                 |1              |TERM. PQ. D. PEDRO II   |ITAIM PAULISTA         |22                |31834          |true                  |2024-09-18 11:10:54        |-23.492153      |-46.445614       |\n",
      "|08:11                     |3459-10                  |402                 |1              |TERM. PQ. D. PEDRO II   |ITAIM PAULISTA         |22                |31849          |true                  |2024-09-18 11:10:43        |-23.546457      |-46.629906       |\n",
      "|08:11                     |3459-10                  |402                 |1              |TERM. PQ. D. PEDRO II   |ITAIM PAULISTA         |22                |31829          |true                  |2024-09-18 11:10:41        |-23.54701       |-46.62953        |\n",
      "|08:11                     |3459-10                  |402                 |1              |TERM. PQ. D. PEDRO II   |ITAIM PAULISTA         |22                |31939          |true                  |2024-09-18 11:10:35        |-23.4947        |-46.413506       |\n",
      "|08:11                     |3459-10                  |402                 |1              |TERM. PQ. D. PEDRO II   |ITAIM PAULISTA         |22                |31938          |true                  |2024-09-18 11:10:49        |-23.51652       |-46.3856         |\n",
      "|08:11                     |3459-10                  |402                 |1              |TERM. PQ. D. PEDRO II   |ITAIM PAULISTA         |22                |31932          |true                  |2024-09-18 11:11:00        |-23.51652       |-46.3856         |\n",
      "|08:11                     |3459-10                  |402                 |1              |TERM. PQ. D. PEDRO II   |ITAIM PAULISTA         |22                |31228          |true                  |2024-09-18 11:10:28        |-23.51652       |-46.3856         |\n",
      "|08:11                     |3459-10                  |402                 |1              |TERM. PQ. D. PEDRO II   |ITAIM PAULISTA         |22                |31844          |true                  |2024-09-18 11:11:06        |-23.51652       |-46.3856         |\n",
      "|08:11                     |3459-10                  |402                 |1              |TERM. PQ. D. PEDRO II   |ITAIM PAULISTA         |22                |31847          |true                  |2024-09-18 11:10:58        |-23.49215       |-46.444004       |\n",
      "|08:11                     |3459-10                  |402                 |1              |TERM. PQ. D. PEDRO II   |ITAIM PAULISTA         |22                |31828          |true                  |2024-09-18 11:10:24        |-23.548578      |-46.62605        |\n",
      "|08:11                     |3459-10                  |402                 |1              |TERM. PQ. D. PEDRO II   |ITAIM PAULISTA         |22                |31840          |true                  |2024-09-18 11:11:07        |-23.521376      |-46.51627        |\n",
      "|08:11                     |3459-10                  |402                 |1              |TERM. PQ. D. PEDRO II   |ITAIM PAULISTA         |22                |31940          |true                  |2024-09-18 11:10:26        |-23.494884      |-46.40807        |\n",
      "|08:11                     |3459-10                  |402                 |1              |TERM. PQ. D. PEDRO II   |ITAIM PAULISTA         |22                |31085          |true                  |2024-09-18 11:10:26        |-23.547342      |-46.629295       |\n",
      "|08:11                     |3459-10                  |402                 |1              |TERM. PQ. D. PEDRO II   |ITAIM PAULISTA         |22                |31814          |true                  |2024-09-18 11:10:33        |-23.501575      |-46.39715        |\n",
      "|08:11                     |3459-10                  |402                 |1              |TERM. PQ. D. PEDRO II   |ITAIM PAULISTA         |22                |31832          |true                  |2024-09-18 11:10:52        |-23.542837      |-46.58773        |\n",
      "|08:11                     |3459-10                  |402                 |1              |TERM. PQ. D. PEDRO II   |ITAIM PAULISTA         |22                |31815          |true                  |2024-09-18 11:10:59        |-23.51652       |-46.3856         |\n",
      "|08:11                     |3459-10                  |402                 |1              |TERM. PQ. D. PEDRO II   |ITAIM PAULISTA         |22                |31222          |true                  |2024-09-18 11:10:49        |-23.509897      |-46.44343        |\n",
      "|08:11                     |2769-10                  |397                 |1              |METRÔ TATUAPÉ           |JD. ROMANO             |6                 |31711          |true                  |2024-09-18 11:10:51        |-23.481861      |-46.379604       |\n",
      "|08:11                     |2769-10                  |397                 |1              |METRÔ TATUAPÉ           |JD. ROMANO             |6                 |31705          |true                  |2024-09-18 11:11:06        |-23.497812      |-46.460205       |\n",
      "|08:11                     |2769-10                  |397                 |1              |METRÔ TATUAPÉ           |JD. ROMANO             |6                 |31606          |true                  |2024-09-18 11:10:45        |-23.52276       |-46.531876       |\n",
      "|08:11                     |2769-10                  |397                 |1              |METRÔ TATUAPÉ           |JD. ROMANO             |6                 |31051          |true                  |2024-09-18 11:10:52        |-23.493908      |-46.406616       |\n",
      "|08:11                     |2769-10                  |397                 |1              |METRÔ TATUAPÉ           |JD. ROMANO             |6                 |31703          |true                  |2024-09-18 11:11:03        |-23.534262      |-46.567837       |\n",
      "|08:11                     |2769-10                  |397                 |1              |METRÔ TATUAPÉ           |JD. ROMANO             |6                 |31076          |true                  |2024-09-18 11:11:03        |-23.539818      |-46.576435       |\n",
      "|08:11                     |6063-21                  |34769               |2              |TERM. VARGINHA          |JD. NOVO HORIZONTE     |1                 |66446          |true                  |2024-09-18 11:10:57        |-23.767096      |-46.716236       |\n",
      "|08:11                     |8700-24                  |2509                |1              |PÇA. RAMOS DE AZEVEDO   |LGO. DO TABOÃO         |1                 |82419          |true                  |2024-09-18 11:10:06        |-23.54762       |-46.64087        |\n",
      "|08:11                     |2006-10                  |895                 |1              |CPTM ITAIM PAULISTA     |CID. KEMEL I           |11                |36608          |true                  |2024-09-18 11:10:37        |-23.494255      |-46.40007        |\n",
      "|08:11                     |2006-10                  |895                 |1              |CPTM ITAIM PAULISTA     |CID. KEMEL I           |11                |36307          |true                  |2024-09-18 11:10:45        |-23.498852      |-46.370064       |\n",
      "+--------------------------+-------------------------+--------------------+---------------+------------------------+-----------------------+------------------+---------------+----------------------+---------------------------+----------------+-----------------+\n",
      "only showing top 100 rows\n",
      "\n"
     ]
    }
   ],
   "source": [
    "from pyspark.sql.functions import explode, col\n",
    "\n",
    "# Explodir a coluna 'l' para acessar os campos dentro dela\n",
    "df_exploded = df.select(\"hr\", explode(\"l\").alias(\"linha\"))\n",
    "\n",
    "# Selecionar e renomear todos os campos relevantes\n",
    "df_raw_posicao = df_exploded.select(\n",
    "    col(\"hr\").alias(\"veiculo_horario_referencia\"),\n",
    "    col(\"linha.c\").alias(\"veiculo_letreiro_completo\"),\n",
    "    col(\"linha.cl\").alias(\"veiculo_linha_codigo\"),\n",
    "    col(\"linha.sl\").alias(\"veiculo_sentido\"),\n",
    "    col(\"linha.lt0\").alias(\"veiculo_letreiro_destino\"),\n",
    "    col(\"linha.lt1\").alias(\"veiculo_letreiro_origem\"),\n",
    "    col(\"linha.qv\").alias(\"veiculo_quantidade\"),\n",
    "    explode(\"linha.vs\").alias(\"veiculo\")\n",
    ").select(\n",
    "    \"*\",\n",
    "    col(\"veiculo.p\").alias(\"veiculo_prefixo\"),\n",
    "    col(\"veiculo.a\").alias(\"veiculo_acessibilidade\"),\n",
    "    col(\"veiculo.ta\").alias(\"veiculo_horario_utc_captura\"),\n",
    "    col(\"veiculo.py\").alias(\"veiculo_latitude\"),\n",
    "    col(\"veiculo.px\").alias(\"veiculo_longitude\")\n",
    ").drop(\"linha\", \"veiculo\")\n",
    "\n",
    "# Mostrar o esquema do DataFrame final\n",
    "print(\"Esquema do DataFrame final:\")\n",
    "df_raw_posicao.printSchema()\n",
    "\n",
    "# Mostrar algumas linhas do DataFrame final\n",
    "print(\"\\nAmostras do DataFrame final:\")\n",
    "df_raw_posicao.show(100,False)"
   ]
  }
 ],
 "metadata": {
  "kernelspec": {
   "display_name": "Python 3 (ipykernel)",
   "language": "python",
   "name": "python3"
  }
 },
 "nbformat": 4,
 "nbformat_minor": 2
}
