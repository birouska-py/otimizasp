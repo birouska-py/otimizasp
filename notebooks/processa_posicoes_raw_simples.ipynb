{
 "cells": [
  {
   "cell_type": "code",
   "execution_count": 1,
   "metadata": {},
   "outputs": [
    {
     "name": "stdout",
     "output_type": "stream",
     "text": [
      "3.5.0\n"
     ]
    }
   ],
   "source": [
    "import pyspark\n",
    "print(pyspark.__version__)\n"
   ]
  },
  {
   "cell_type": "code",
   "execution_count": 2,
   "metadata": {},
   "outputs": [],
   "source": [
    "from pyspark.sql import SparkSession"
   ]
  },
  {
   "cell_type": "code",
   "execution_count": 3,
   "metadata": {},
   "outputs": [],
   "source": [
    "spark_server = \"spark://spark-master-otmzsp:7077\""
   ]
  },
  {
   "cell_type": "code",
   "execution_count": 4,
   "metadata": {},
   "outputs": [],
   "source": [
    "# Configurando a sessão do Spark com as dependências e variáveis do S3A\n",
    " #.master(spark_server) \\\n",
    "spark = SparkSession.builder \\\n",
    "    .appName(\"MinIO Example - server\") \\\n",
    "    .master(spark_server) \\\n",
    "    .config(\"spark.jars.packages\", \"org.apache.hadoop:hadoop-aws:3.3.4,com.amazonaws:aws-java-sdk-bundle:1.12.262\") \\\n",
    "    .config(\"spark.hadoop.fs.s3a.access.key\", \"admin\") \\\n",
    "    .config(\"spark.hadoop.fs.s3a.secret.key\", \"minioadmin\") \\\n",
    "    .config(\"spark.hadoop.fs.s3a.endpoint\", \"http://minio-otmzsp:9000\") \\\n",
    "    .config(\"spark.hadoop.fs.s3a.connection.ssl.enabled\", \"false\") \\\n",
    "    .config(\"spark.hadoop.fs.s3a.path.style.access\", \"true\") \\\n",
    "    .getOrCreate()"
   ]
  },
  {
   "cell_type": "code",
   "execution_count": 5,
   "metadata": {},
   "outputs": [
    {
     "data": {
      "text/html": [
       "\n",
       "            <div>\n",
       "                <p><b>SparkSession - in-memory</b></p>\n",
       "                \n",
       "        <div>\n",
       "            <p><b>SparkContext</b></p>\n",
       "\n",
       "            <p><a href=\"http://d6258ff2d36d:4040\">Spark UI</a></p>\n",
       "\n",
       "            <dl>\n",
       "              <dt>Version</dt>\n",
       "                <dd><code>v3.5.0</code></dd>\n",
       "              <dt>Master</dt>\n",
       "                <dd><code>spark://spark-master-otmzsp:7077</code></dd>\n",
       "              <dt>AppName</dt>\n",
       "                <dd><code>MinIO Example - server</code></dd>\n",
       "            </dl>\n",
       "        </div>\n",
       "        \n",
       "            </div>\n",
       "        "
      ],
      "text/plain": [
       "<pyspark.sql.session.SparkSession at 0x78b7ca132450>"
      ]
     },
     "execution_count": 5,
     "metadata": {},
     "output_type": "execute_result"
    }
   ],
   "source": [
    "spark"
   ]
  },
  {
   "cell_type": "code",
   "execution_count": 6,
   "metadata": {},
   "outputs": [],
   "source": [
    "raw = 's3a://raw/posicoes'\n",
    "#raw = 's3a://raw/posicoes'\n",
    "trusted = 's3a://trusted/posicoes'"
   ]
  },
  {
   "cell_type": "code",
   "execution_count": 8,
   "metadata": {},
   "outputs": [
    {
     "name": "stdout",
     "output_type": "stream",
     "text": [
      "Python 3.11.6\n"
     ]
    }
   ],
   "source": [
    "!python --version"
   ]
  },
  {
   "cell_type": "code",
   "execution_count": 9,
   "metadata": {},
   "outputs": [],
   "source": [
    "from pyspark.sql.types import StructType, StructField, StringType, IntegerType, BooleanType, ArrayType, TimestampType, FloatType\n",
    "\n",
    "# Defining the schema for the JSON\n",
    "schema = StructType([StructField(\"hr\", StringType(), True),\n",
    "                     StructField(\"l\", ArrayType(StructType([StructField(\"c\", StringType(), True),\n",
    "                                                            StructField(\"cl\", IntegerType(), True),\n",
    "                                                            StructField(\"sl\", IntegerType(), True),\n",
    "                                                            StructField(\"lt0\", StringType(), True),\n",
    "                                                            StructField(\"lt1\", StringType(), True),\n",
    "                                                            StructField(\"qv\", IntegerType(), True),\n",
    "                                                            StructField(\"vs\", ArrayType(StructType([StructField(\"p\", IntegerType(), True),\n",
    "                                                                                                    StructField(\"a\", BooleanType(), True),\n",
    "                                                                                                    StructField(\"ta\", TimestampType(), True),\n",
    "                                                                                                    StructField(\"py\", FloatType(), True),\n",
    "                                                                                                    StructField(\"px\", FloatType(), True),\n",
    "                                                                                                    StructField(\"sv\", StringType(), True),\n",
    "                                                                                                    StructField(\"is\", StringType(), True)\n",
    "                                                                                                    ])\n",
    "                                                                                        )\n",
    "                                                                        )\n",
    "                                                            ])\n",
    "                                                )\n",
    "                                )\n",
    "                    ])\n",
    "\n",
    "\n",
    "\n"
   ]
  },
  {
   "cell_type": "code",
   "execution_count": 10,
   "metadata": {},
   "outputs": [],
   "source": [
    "df = spark.read.schema(schema).json(raw)"
   ]
  },
  {
   "cell_type": "code",
   "execution_count": 11,
   "metadata": {},
   "outputs": [
    {
     "data": {
      "text/plain": [
       "DataFrame[hr: string, l: array<struct<c:string,cl:int,sl:int,lt0:string,lt1:string,qv:int,vs:array<struct<p:int,a:boolean,ta:timestamp,py:float,px:float,sv:string,is:string>>>>, datepartition: date]"
      ]
     },
     "execution_count": 11,
     "metadata": {},
     "output_type": "execute_result"
    }
   ],
   "source": [
    "df"
   ]
  },
  {
   "cell_type": "code",
   "execution_count": 12,
   "metadata": {},
   "outputs": [
    {
     "name": "stdout",
     "output_type": "stream",
     "text": [
      "+-----+--------------------+-------------+\n",
      "|   hr|                   l|datepartition|\n",
      "+-----+--------------------+-------------+\n",
      "|21:17|[{7903-10, 33280,...|   2024-09-17|\n",
      "|21:19|[{7903-10, 33280,...|   2024-09-17|\n",
      "|21:21|[{7903-10, 33280,...|   2024-09-17|\n",
      "+-----+--------------------+-------------+\n",
      "\n"
     ]
    }
   ],
   "source": [
    "df.show()"
   ]
  },
  {
   "cell_type": "code",
   "execution_count": 13,
   "metadata": {},
   "outputs": [
    {
     "name": "stdout",
     "output_type": "stream",
     "text": [
      "Esquema do DataFrame final:\n",
      "root\n",
      " |-- veiculo_horario_referencia: string (nullable = true)\n",
      " |-- veiculo_letreiro_completo: string (nullable = true)\n",
      " |-- veiculo_linha_codigo: integer (nullable = true)\n",
      " |-- veiculo_sentido: integer (nullable = true)\n",
      " |-- veiculo_letreiro_destino: string (nullable = true)\n",
      " |-- veiculo_letreiro_origem: string (nullable = true)\n",
      " |-- veiculo_quantidade: integer (nullable = true)\n",
      " |-- veiculo_prefixo: integer (nullable = true)\n",
      " |-- veiculo_acessibilidade: boolean (nullable = true)\n",
      " |-- veiculo_horario_utc_captura: timestamp (nullable = true)\n",
      " |-- veiculo_latitude: float (nullable = true)\n",
      " |-- veiculo_longitude: float (nullable = true)\n",
      "\n",
      "\n",
      "Amostras do DataFrame final:\n",
      "+--------------------------+-------------------------+--------------------+---------------+------------------------+-----------------------+------------------+---------------+----------------------+---------------------------+----------------+-----------------+\n",
      "|veiculo_horario_referencia|veiculo_letreiro_completo|veiculo_linha_codigo|veiculo_sentido|veiculo_letreiro_destino|veiculo_letreiro_origem|veiculo_quantidade|veiculo_prefixo|veiculo_acessibilidade|veiculo_horario_utc_captura|veiculo_latitude|veiculo_longitude|\n",
      "+--------------------------+-------------------------+--------------------+---------------+------------------------+-----------------------+------------------+---------------+----------------------+---------------------------+----------------+-----------------+\n",
      "|21:17                     |7903-10                  |33280               |2              |PÇA. RAMOS DE AZEVEDO   |JD. JOÃO XXIII/EDUC.   |5                 |81504          |true                  |2024-09-18 00:16:45        |-23.54777       |-46.641586       |\n",
      "|21:17                     |7903-10                  |33280               |2              |PÇA. RAMOS DE AZEVEDO   |JD. JOÃO XXIII/EDUC.   |5                 |81264          |true                  |2024-09-18 00:16:22        |-23.594463      |-46.786766       |\n",
      "|21:17                     |7903-10                  |33280               |2              |PÇA. RAMOS DE AZEVEDO   |JD. JOÃO XXIII/EDUC.   |5                 |81560          |true                  |2024-09-18 00:16:51        |-23.599966      |-46.784412       |\n",
      "|21:17                     |7903-10                  |33280               |2              |PÇA. RAMOS DE AZEVEDO   |JD. JOÃO XXIII/EDUC.   |5                 |81610          |true                  |2024-09-18 00:17:03        |-23.57387       |-46.71438        |\n",
      "|21:17                     |7903-10                  |33280               |2              |PÇA. RAMOS DE AZEVEDO   |JD. JOÃO XXIII/EDUC.   |5                 |81140          |true                  |2024-09-18 00:16:30        |-23.54777       |-46.641586       |\n",
      "|21:17                     |9032-10                  |33648               |2              |TERM. CACHOEIRINHA      |JD. DAMASCENO          |7                 |16298          |true                  |2024-09-18 00:16:53        |-23.475014      |-46.66992        |\n",
      "|21:17                     |9032-10                  |33648               |2              |TERM. CACHOEIRINHA      |JD. DAMASCENO          |7                 |16669          |true                  |2024-09-18 00:16:39        |-23.468029      |-46.67757        |\n",
      "|21:17                     |9032-10                  |33648               |2              |TERM. CACHOEIRINHA      |JD. DAMASCENO          |7                 |16721          |true                  |2024-09-18 00:16:43        |-23.446335      |-46.69309        |\n",
      "|21:17                     |9032-10                  |33648               |2              |TERM. CACHOEIRINHA      |JD. DAMASCENO          |7                 |16342          |true                  |2024-09-18 00:16:30        |-23.446339      |-46.69321        |\n",
      "|21:17                     |9032-10                  |33648               |2              |TERM. CACHOEIRINHA      |JD. DAMASCENO          |7                 |16346          |true                  |2024-09-18 00:16:49        |-23.446266      |-46.693714       |\n",
      "|21:17                     |9032-10                  |33648               |2              |TERM. CACHOEIRINHA      |JD. DAMASCENO          |7                 |16329          |true                  |2024-09-18 00:16:38        |-23.449114      |-46.69812        |\n",
      "|21:17                     |9032-10                  |33648               |2              |TERM. CACHOEIRINHA      |JD. DAMASCENO          |7                 |16677          |true                  |2024-09-18 00:16:52        |-23.45261       |-46.699192       |\n",
      "|21:17                     |2727-10                  |33710               |2              |CONJ. A. E. CARVALHO    |METRÔ ARTUR ALVIM      |2                 |45446          |true                  |2024-09-18 00:16:47        |-23.529783      |-46.46628        |\n",
      "|21:17                     |2727-10                  |33710               |2              |CONJ. A. E. CARVALHO    |METRÔ ARTUR ALVIM      |2                 |45734          |true                  |2024-09-18 00:16:26        |-23.527237      |-46.46477        |\n",
      "|21:17                     |3026-10                  |962                 |1              |CPTM GUAIANASES         |VL. IOLANDA II         |5                 |36095          |true                  |2024-09-18 00:16:40        |-23.563684      |-46.40516        |\n",
      "|21:17                     |3026-10                  |962                 |1              |CPTM GUAIANASES         |VL. IOLANDA II         |5                 |36310          |true                  |2024-09-18 00:16:53        |-23.582767      |-46.386086       |\n",
      "|21:17                     |3026-10                  |962                 |1              |CPTM GUAIANASES         |VL. IOLANDA II         |5                 |36152          |true                  |2024-09-18 00:16:43        |-23.582767      |-46.386086       |\n",
      "|21:17                     |3026-10                  |962                 |1              |CPTM GUAIANASES         |VL. IOLANDA II         |5                 |36625          |true                  |2024-09-18 00:17:00        |-23.562681      |-46.405636       |\n",
      "|21:17                     |3026-10                  |962                 |1              |CPTM GUAIANASES         |VL. IOLANDA II         |5                 |36664          |true                  |2024-09-18 00:17:06        |-23.585533      |-46.381245       |\n",
      "|21:17                     |6013-10                  |186                 |1              |TERM. STO. AMARO        |JD. NAKAMURA           |6                 |73351          |true                  |2024-09-18 00:16:25        |-23.699184      |-46.763096       |\n",
      "|21:17                     |6013-10                  |186                 |1              |TERM. STO. AMARO        |JD. NAKAMURA           |6                 |73459          |true                  |2024-09-18 00:16:36        |-23.699184      |-46.763096       |\n",
      "|21:17                     |6013-10                  |186                 |1              |TERM. STO. AMARO        |JD. NAKAMURA           |6                 |73216          |true                  |2024-09-18 00:16:29        |-23.699184      |-46.763096       |\n",
      "|21:17                     |6013-10                  |186                 |1              |TERM. STO. AMARO        |JD. NAKAMURA           |6                 |73361          |true                  |2024-09-18 00:16:25        |-23.654108      |-46.712055       |\n",
      "|21:17                     |6013-10                  |186                 |1              |TERM. STO. AMARO        |JD. NAKAMURA           |6                 |73485          |true                  |2024-09-18 00:16:48        |-23.665081      |-46.737114       |\n",
      "|21:17                     |6013-10                  |186                 |1              |TERM. STO. AMARO        |JD. NAKAMURA           |6                 |73229          |true                  |2024-09-18 00:16:21        |-23.645382      |-46.72987        |\n",
      "|21:17                     |407A-10                  |2194                |1              |LGO. DA CONCÓRDIA       |SHOP. ARICANDUVA       |3                 |48088          |true                  |2024-09-18 00:16:36        |-23.559237      |-46.56835        |\n",
      "|21:17                     |407A-10                  |2194                |1              |LGO. DA CONCÓRDIA       |SHOP. ARICANDUVA       |3                 |48154          |true                  |2024-09-18 00:16:44        |-23.542393      |-46.616875       |\n",
      "|21:17                     |407A-10                  |2194                |1              |LGO. DA CONCÓRDIA       |SHOP. ARICANDUVA       |3                 |48267          |true                  |2024-09-18 00:16:36        |-23.57901       |-46.517666       |\n",
      "|21:17                     |917H-10                  |456                 |1              |METRÔ VL. MARIANA       |TERM. PIRITUBA         |14                |11823          |true                  |2024-09-18 00:16:59        |-23.486013      |-46.72575        |\n",
      "|21:17                     |917H-10                  |456                 |1              |METRÔ VL. MARIANA       |TERM. PIRITUBA         |14                |11472          |true                  |2024-09-18 00:16:49        |-23.51943       |-46.753254       |\n",
      "|21:17                     |917H-10                  |456                 |1              |METRÔ VL. MARIANA       |TERM. PIRITUBA         |14                |11883          |true                  |2024-09-18 00:16:40        |-23.54071       |-46.7151         |\n",
      "|21:17                     |917H-10                  |456                 |1              |METRÔ VL. MARIANA       |TERM. PIRITUBA         |14                |11478          |true                  |2024-09-18 00:16:54        |-23.586546      |-46.63532        |\n",
      "|21:17                     |917H-10                  |456                 |1              |METRÔ VL. MARIANA       |TERM. PIRITUBA         |14                |11888          |true                  |2024-09-18 00:16:29        |-23.488148      |-46.73133        |\n",
      "|21:17                     |917H-10                  |456                 |1              |METRÔ VL. MARIANA       |TERM. PIRITUBA         |14                |11903          |true                  |2024-09-18 00:16:59        |-23.559444      |-46.65884        |\n",
      "|21:17                     |917H-10                  |456                 |1              |METRÔ VL. MARIANA       |TERM. PIRITUBA         |14                |11890          |true                  |2024-09-18 00:16:25        |-23.486366      |-46.72608        |\n",
      "|21:17                     |917H-10                  |456                 |1              |METRÔ VL. MARIANA       |TERM. PIRITUBA         |14                |11885          |true                  |2024-09-18 00:16:52        |-23.486727      |-46.737362       |\n",
      "|21:17                     |917H-10                  |456                 |1              |METRÔ VL. MARIANA       |TERM. PIRITUBA         |14                |11907          |true                  |2024-09-18 00:16:29        |-23.536463      |-46.70938        |\n",
      "|21:17                     |917H-10                  |456                 |1              |METRÔ VL. MARIANA       |TERM. PIRITUBA         |14                |11889          |true                  |2024-09-18 00:16:25        |-23.486013      |-46.72575        |\n",
      "|21:17                     |917H-10                  |456                 |1              |METRÔ VL. MARIANA       |TERM. PIRITUBA         |14                |11886          |true                  |2024-09-18 00:16:51        |-23.486013      |-46.72575        |\n",
      "|21:17                     |917H-10                  |456                 |1              |METRÔ VL. MARIANA       |TERM. PIRITUBA         |14                |11902          |true                  |2024-09-18 00:16:55        |-23.559982      |-46.65824        |\n",
      "|21:17                     |917H-10                  |456                 |1              |METRÔ VL. MARIANA       |TERM. PIRITUBA         |14                |11909          |true                  |2024-09-18 00:16:28        |-23.508314      |-46.75221        |\n",
      "|21:17                     |917H-10                  |456                 |1              |METRÔ VL. MARIANA       |TERM. PIRITUBA         |14                |11900          |true                  |2024-09-18 00:16:25        |-23.589264      |-46.634502       |\n",
      "|21:17                     |178L-10                  |560                 |1              |HOSP. DAS CLÍNICAS      |LAUZANE PAULISTA       |9                 |22678          |true                  |2024-09-18 00:17:01        |-23.549608      |-46.681904       |\n",
      "|21:17                     |178L-10                  |560                 |1              |HOSP. DAS CLÍNICAS      |LAUZANE PAULISTA       |9                 |22280          |true                  |2024-09-18 00:16:26        |-23.549864      |-46.68239        |\n",
      "|21:17                     |178L-10                  |560                 |1              |HOSP. DAS CLÍNICAS      |LAUZANE PAULISTA       |9                 |22689          |true                  |2024-09-18 00:16:33        |-23.550093      |-46.68223        |\n",
      "|21:17                     |178L-10                  |560                 |1              |HOSP. DAS CLÍNICAS      |LAUZANE PAULISTA       |9                 |22683          |true                  |2024-09-18 00:17:05        |-23.475113      |-46.64319        |\n",
      "|21:17                     |178L-10                  |560                 |1              |HOSP. DAS CLÍNICAS      |LAUZANE PAULISTA       |9                 |22680          |true                  |2024-09-18 00:16:50        |-23.549608      |-46.681904       |\n",
      "|21:17                     |178L-10                  |560                 |1              |HOSP. DAS CLÍNICAS      |LAUZANE PAULISTA       |9                 |22684          |true                  |2024-09-18 00:17:03        |-23.55016       |-46.65452        |\n",
      "|21:17                     |178L-10                  |560                 |1              |HOSP. DAS CLÍNICAS      |LAUZANE PAULISTA       |9                 |22736          |true                  |2024-09-18 00:16:50        |-23.483982      |-46.642204       |\n",
      "|21:17                     |178L-10                  |560                 |1              |HOSP. DAS CLÍNICAS      |LAUZANE PAULISTA       |9                 |22690          |true                  |2024-09-18 00:16:37        |-23.475113      |-46.64319        |\n",
      "|21:17                     |178L-10                  |560                 |1              |HOSP. DAS CLÍNICAS      |LAUZANE PAULISTA       |9                 |22688          |true                  |2024-09-18 00:16:46        |-23.48662       |-46.639515       |\n",
      "|21:17                     |9005-10                  |872                 |1              |TERM. CACHOEIRINHA      |JD. PRINCESA           |3                 |16405          |true                  |2024-09-18 00:16:32        |-23.46694       |-46.670437       |\n",
      "|21:17                     |9005-10                  |872                 |1              |TERM. CACHOEIRINHA      |JD. PRINCESA           |3                 |16106          |true                  |2024-09-18 00:16:55        |-23.45259       |-46.688744       |\n",
      "|21:17                     |9005-10                  |872                 |1              |TERM. CACHOEIRINHA      |JD. PRINCESA           |3                 |16491          |true                  |2024-09-18 00:16:47        |-23.454378      |-46.6934         |\n",
      "|21:17                     |957T-10                  |464                 |1              |VL. OLÍMPIA             |COHAB TAIPAS           |7                 |11663          |true                  |2024-09-18 00:16:54        |-23.451641      |-46.700127       |\n",
      "|21:17                     |957T-10                  |464                 |1              |VL. OLÍMPIA             |COHAB TAIPAS           |7                 |11664          |true                  |2024-09-18 00:16:50        |-23.596163      |-46.691353       |\n",
      "|21:17                     |957T-10                  |464                 |1              |VL. OLÍMPIA             |COHAB TAIPAS           |7                 |11673          |true                  |2024-09-18 00:16:47        |-23.596004      |-46.691593       |\n",
      "|21:17                     |957T-10                  |464                 |1              |VL. OLÍMPIA             |COHAB TAIPAS           |7                 |11662          |true                  |2024-09-18 00:16:46        |-23.504166      |-46.693798       |\n",
      "|21:17                     |957T-10                  |464                 |1              |VL. OLÍMPIA             |COHAB TAIPAS           |7                 |11671          |true                  |2024-09-18 00:17:06        |-23.596004      |-46.691593       |\n",
      "|21:17                     |957T-10                  |464                 |1              |VL. OLÍMPIA             |COHAB TAIPAS           |7                 |11666          |true                  |2024-09-18 00:16:23        |-23.436174      |-46.717285       |\n",
      "|21:17                     |957T-10                  |464                 |1              |VL. OLÍMPIA             |COHAB TAIPAS           |7                 |11661          |true                  |2024-09-18 00:16:44        |-23.56054       |-46.695778       |\n",
      "|21:17                     |372U-10                  |33784               |2              |METRÔ TATUAPÉ           |VL. STA. ISABEL        |12                |45338          |true                  |2024-09-18 00:16:27        |-23.55826       |-46.54175        |\n",
      "|21:17                     |372U-10                  |33784               |2              |METRÔ TATUAPÉ           |VL. STA. ISABEL        |12                |45342          |true                  |2024-09-18 00:16:57        |-23.557077      |-46.537518       |\n",
      "|21:17                     |372U-10                  |33784               |2              |METRÔ TATUAPÉ           |VL. STA. ISABEL        |12                |45478          |true                  |2024-09-18 00:16:50        |-23.556849      |-46.53737        |\n",
      "|21:17                     |372U-10                  |33784               |2              |METRÔ TATUAPÉ           |VL. STA. ISABEL        |12                |45333          |true                  |2024-09-18 00:16:49        |-23.552362      |-46.572727       |\n",
      "|21:17                     |372U-10                  |33784               |2              |METRÔ TATUAPÉ           |VL. STA. ISABEL        |12                |45493          |true                  |2024-09-18 00:17:00        |-23.557663      |-46.54445        |\n",
      "|21:17                     |372U-10                  |33784               |2              |METRÔ TATUAPÉ           |VL. STA. ISABEL        |12                |45604          |true                  |2024-09-18 00:16:46        |-23.557077      |-46.537518       |\n",
      "|21:17                     |372U-10                  |33784               |2              |METRÔ TATUAPÉ           |VL. STA. ISABEL        |12                |45424          |true                  |2024-09-18 00:16:40        |-23.563438      |-46.55292        |\n",
      "|21:17                     |372U-10                  |33784               |2              |METRÔ TATUAPÉ           |VL. STA. ISABEL        |12                |45556          |true                  |2024-09-18 00:17:00        |-23.540962      |-46.57646        |\n",
      "|21:17                     |372U-10                  |33784               |2              |METRÔ TATUAPÉ           |VL. STA. ISABEL        |12                |45646          |true                  |2024-09-18 00:17:01        |-23.540962      |-46.57646        |\n",
      "|21:17                     |372U-10                  |33784               |2              |METRÔ TATUAPÉ           |VL. STA. ISABEL        |12                |45477          |true                  |2024-09-18 00:16:34        |-23.559744      |-46.540462       |\n",
      "|21:17                     |372U-10                  |33784               |2              |METRÔ TATUAPÉ           |VL. STA. ISABEL        |12                |45598          |true                  |2024-09-18 00:16:53        |-23.557077      |-46.537518       |\n",
      "|21:17                     |372U-10                  |33784               |2              |METRÔ TATUAPÉ           |VL. STA. ISABEL        |12                |45372          |true                  |2024-09-18 00:16:30        |-23.557077      |-46.537518       |\n",
      "|21:17                     |3761-10                  |1051                |1              |METRÔ CARRÃO            |3A. DIVISÃO            |6                 |47574          |true                  |2024-09-18 00:16:33        |-23.59848       |-46.468353       |\n",
      "|21:17                     |3761-10                  |1051                |1              |METRÔ CARRÃO            |3A. DIVISÃO            |6                 |47264          |true                  |2024-09-18 00:16:42        |-23.61686       |-46.42318        |\n",
      "|21:17                     |3761-10                  |1051                |1              |METRÔ CARRÃO            |3A. DIVISÃO            |6                 |47180          |true                  |2024-09-18 00:16:22        |-23.583696      |-46.4921         |\n",
      "|21:17                     |3761-10                  |1051                |1              |METRÔ CARRÃO            |3A. DIVISÃO            |6                 |47604          |true                  |2024-09-18 00:17:07        |-23.596888      |-46.435207       |\n",
      "|21:17                     |3761-10                  |1051                |1              |METRÔ CARRÃO            |3A. DIVISÃO            |6                 |47290          |true                  |2024-09-18 00:16:59        |-23.537937      |-46.56365        |\n",
      "|21:17                     |3761-10                  |1051                |1              |METRÔ CARRÃO            |3A. DIVISÃO            |6                 |47685          |true                  |2024-09-18 00:16:25        |-23.53817       |-46.564766       |\n",
      "|21:17                     |2080-10                  |371                 |1              |TERM. ARICANDUVA        |CID. KEMEL             |7                 |32118          |true                  |2024-09-18 00:17:05        |-23.494116      |-46.43925        |\n",
      "|21:17                     |2080-10                  |371                 |1              |TERM. ARICANDUVA        |CID. KEMEL             |7                 |32095          |true                  |2024-09-18 00:16:44        |-23.528975      |-46.554253       |\n",
      "|21:17                     |2080-10                  |371                 |1              |TERM. ARICANDUVA        |CID. KEMEL             |7                 |32935          |true                  |2024-09-18 00:16:54        |-23.528776      |-46.554375       |\n",
      "|21:17                     |2080-10                  |371                 |1              |TERM. ARICANDUVA        |CID. KEMEL             |7                 |32141          |true                  |2024-09-18 00:17:03        |-23.492544      |-46.388336       |\n",
      "|21:17                     |2080-10                  |371                 |1              |TERM. ARICANDUVA        |CID. KEMEL             |7                 |32197          |true                  |2024-09-18 00:17:01        |-23.512838      |-46.516045       |\n",
      "|21:17                     |2080-10                  |371                 |1              |TERM. ARICANDUVA        |CID. KEMEL             |7                 |32093          |true                  |2024-09-18 00:16:25        |-23.529058      |-46.5542         |\n",
      "|21:17                     |2080-10                  |371                 |1              |TERM. ARICANDUVA        |CID. KEMEL             |7                 |32102          |true                  |2024-09-18 00:16:19        |-23.49993       |-46.469143       |\n",
      "|21:17                     |208M-10                  |35246               |2              |TERM. PINHEIROS         |METRÔ SANTANA          |7                 |21018          |true                  |2024-09-18 00:16:47        |-23.563358      |-46.687176       |\n",
      "|21:17                     |208M-10                  |35246               |2              |TERM. PINHEIROS         |METRÔ SANTANA          |7                 |21015          |true                  |2024-09-18 00:16:26        |-23.501179      |-46.62356        |\n",
      "|21:17                     |208M-10                  |35246               |2              |TERM. PINHEIROS         |METRÔ SANTANA          |7                 |21013          |true                  |2024-09-18 00:16:24        |-23.566105      |-46.701523       |\n",
      "|21:17                     |208M-10                  |35246               |2              |TERM. PINHEIROS         |METRÔ SANTANA          |7                 |21370          |true                  |2024-09-18 00:16:48        |-23.537449      |-46.6636         |\n",
      "|21:17                     |208M-10                  |35246               |2              |TERM. PINHEIROS         |METRÔ SANTANA          |7                 |21009          |true                  |2024-09-18 00:16:42        |-23.526497      |-46.66827        |\n",
      "|21:17                     |208M-10                  |35246               |2              |TERM. PINHEIROS         |METRÔ SANTANA          |7                 |21016          |true                  |2024-09-18 00:16:42        |-23.501179      |-46.62356        |\n",
      "|21:17                     |208M-10                  |35246               |2              |TERM. PINHEIROS         |METRÔ SANTANA          |7                 |21007          |true                  |2024-09-18 00:16:27        |-23.502214      |-46.62359        |\n",
      "|21:17                     |5175-10                  |593                 |1              |PÇA. DA SÉ              |BALN. SÃO FRANCISCO    |20                |63590          |true                  |2024-09-18 00:16:54        |-23.557875      |-46.641174       |\n",
      "|21:17                     |5175-10                  |593                 |1              |PÇA. DA SÉ              |BALN. SÃO FRANCISCO    |20                |63193          |true                  |2024-09-18 00:16:42        |-23.702581      |-46.650124       |\n",
      "|21:17                     |5175-10                  |593                 |1              |PÇA. DA SÉ              |BALN. SÃO FRANCISCO    |20                |63667          |true                  |2024-09-18 00:16:21        |-23.702581      |-46.650124       |\n",
      "|21:17                     |5175-10                  |593                 |1              |PÇA. DA SÉ              |BALN. SÃO FRANCISCO    |20                |63583          |true                  |2024-09-18 00:16:50        |-23.63188       |-46.669033       |\n",
      "|21:17                     |5175-10                  |593                 |1              |PÇA. DA SÉ              |BALN. SÃO FRANCISCO    |20                |63332          |true                  |2024-09-18 00:16:49        |-23.702581      |-46.650124       |\n",
      "|21:17                     |5175-10                  |593                 |1              |PÇA. DA SÉ              |BALN. SÃO FRANCISCO    |20                |63587          |true                  |2024-09-18 00:16:18        |-23.702581      |-46.650124       |\n",
      "|21:17                     |5175-10                  |593                 |1              |PÇA. DA SÉ              |BALN. SÃO FRANCISCO    |20                |63640          |true                  |2024-09-18 00:16:50        |-23.702581      |-46.650124       |\n",
      "+--------------------------+-------------------------+--------------------+---------------+------------------------+-----------------------+------------------+---------------+----------------------+---------------------------+----------------+-----------------+\n",
      "only showing top 100 rows\n",
      "\n"
     ]
    }
   ],
   "source": [
    "from pyspark.sql.functions import explode, col\n",
    "\n",
    "# Explodir a coluna 'l' para acessar os campos dentro dela\n",
    "df_exploded = df.select(\"hr\", explode(\"l\").alias(\"linha\"))\n",
    "\n",
    "# Selecionar e renomear todos os campos relevantes\n",
    "df_raw_posicao = df_exploded.select(\n",
    "    col(\"hr\").alias(\"veiculo_horario_referencia\"),\n",
    "    col(\"linha.c\").alias(\"veiculo_letreiro_completo\"),\n",
    "    col(\"linha.cl\").alias(\"veiculo_linha_codigo\"),\n",
    "    col(\"linha.sl\").alias(\"veiculo_sentido\"),\n",
    "    col(\"linha.lt0\").alias(\"veiculo_letreiro_destino\"),\n",
    "    col(\"linha.lt1\").alias(\"veiculo_letreiro_origem\"),\n",
    "    col(\"linha.qv\").alias(\"veiculo_quantidade\"),\n",
    "    explode(\"linha.vs\").alias(\"veiculo\")\n",
    ").select(\n",
    "    \"*\",\n",
    "    col(\"veiculo.p\").alias(\"veiculo_prefixo\"),\n",
    "    col(\"veiculo.a\").alias(\"veiculo_acessibilidade\"),\n",
    "    col(\"veiculo.ta\").alias(\"veiculo_horario_utc_captura\"),\n",
    "    col(\"veiculo.py\").alias(\"veiculo_latitude\"),\n",
    "    col(\"veiculo.px\").alias(\"veiculo_longitude\")\n",
    ").drop(\"linha\", \"veiculo\")\n",
    "\n",
    "# Mostrar o esquema do DataFrame final\n",
    "print(\"Esquema do DataFrame final:\")\n",
    "df_raw_posicao.printSchema()\n",
    "\n",
    "# Mostrar algumas linhas do DataFrame final\n",
    "print(\"\\nAmostras do DataFrame final:\")\n",
    "df_raw_posicao.show(100,False)"
   ]
  }
 ],
 "metadata": {
  "kernelspec": {
   "display_name": "Python 3 (ipykernel)",
   "language": "python",
   "name": "python3"
  },
  "language_info": {
   "codemirror_mode": {
    "name": "ipython",
    "version": 3
   },
   "file_extension": ".py",
   "mimetype": "text/x-python",
   "name": "python",
   "nbconvert_exporter": "python",
   "pygments_lexer": "ipython3",
   "version": "3.11.6"
  }
 },
 "nbformat": 4,
 "nbformat_minor": 2
}
