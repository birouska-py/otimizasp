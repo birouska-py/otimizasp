{
 "cells": [
  {
   "cell_type": "code",
   "execution_count": 1,
   "metadata": {},
   "outputs": [],
   "source": [
    "from pyspark.sql import SparkSession"
   ]
  },
  {
   "cell_type": "code",
   "execution_count": 2,
   "metadata": {},
   "outputs": [],
   "source": [
    "spark_server = \"spark://spark-master-otmzsp:7077\""
   ]
  },
  {
   "cell_type": "code",
   "execution_count": 3,
   "metadata": {},
   "outputs": [],
   "source": [
    "# Configurando a sessão do Spark com as dependências e variáveis do S3A\n",
    "# .master(spark_server) \\\n",
    "# .config(\"spark.jars.packages\", \"org.apache.hadoop:hadoop-aws:3.3.4,com.amazonaws:aws-java-sdk-bundle:1.12.262\") \\\n",
    "spark = SparkSession.builder \\\n",
    "    .appName(\"Processa Posições Raw\") \\\n",
    "    .master(spark_server) \\\n",
    "    .config(\"spark.jars.packages\", \"io.delta:delta-spark_2.12:3.1.0,org.apache.hadoop:hadoop-aws:3.3.4\") \\\n",
    "    .config(\"spark.hadoop.fs.s3a.access.key\", \"admin\") \\\n",
    "    .config(\"spark.hadoop.fs.s3a.secret.key\", \"minioadmin\") \\\n",
    "    .config(\"spark.hadoop.fs.s3a.endpoint\", \"http://minio-otmzsp:9000\") \\\n",
    "    .config(\"spark.hadoop.fs.s3a.connection.ssl.enabled\", \"false\") \\\n",
    "    .config(\"spark.hadoop.fs.s3a.path.style.access\", \"true\") \\\n",
    "    .config(\"spark.sql.catalog.spark_catalog\", \"org.apache.spark.sql.delta.catalog.DeltaCatalog\") \\\n",
    "    .getOrCreate()"
   ]
  },
  {
   "cell_type": "code",
   "execution_count": 4,
   "metadata": {},
   "outputs": [
    {
     "data": {
      "text/html": [
       "\n",
       "            <div>\n",
       "                <p><b>SparkSession - in-memory</b></p>\n",
       "                \n",
       "        <div>\n",
       "            <p><b>SparkContext</b></p>\n",
       "\n",
       "            <p><a href=\"http://68b04bcb7876:4040\">Spark UI</a></p>\n",
       "\n",
       "            <dl>\n",
       "              <dt>Version</dt>\n",
       "                <dd><code>v3.5.0</code></dd>\n",
       "              <dt>Master</dt>\n",
       "                <dd><code>spark://spark-master-otmzsp:7077</code></dd>\n",
       "              <dt>AppName</dt>\n",
       "                <dd><code>Processa Posições Raw</code></dd>\n",
       "            </dl>\n",
       "        </div>\n",
       "        \n",
       "            </div>\n",
       "        "
      ],
      "text/plain": [
       "<pyspark.sql.session.SparkSession at 0x7e41a06b7490>"
      ]
     },
     "execution_count": 4,
     "metadata": {},
     "output_type": "execute_result"
    }
   ],
   "source": [
    "spark"
   ]
  },
  {
   "cell_type": "code",
   "execution_count": 5,
   "metadata": {},
   "outputs": [],
   "source": [
    "raw = 's3a://raw/posicoes'\n",
    "trusted = 's3a://trusted/posicoes'\n",
    "checkpoint = 's3a://trusted/posicoes_checkpoint'"
   ]
  },
  {
   "cell_type": "code",
   "execution_count": 6,
   "metadata": {},
   "outputs": [],
   "source": [
    "from pyspark.sql.types import StructType, StructField, StringType, IntegerType, BooleanType, ArrayType, TimestampType, FloatType\n",
    "\n",
    "# Defining the schema for the JSON\n",
    "schema = StructType([StructField(\"hr\", StringType(), True),\n",
    "                     StructField(\"l\", ArrayType(StructType([StructField(\"c\", StringType(), True),\n",
    "                                                            StructField(\"cl\", IntegerType(), True),\n",
    "                                                            StructField(\"sl\", IntegerType(), True),\n",
    "                                                            StructField(\"lt0\", StringType(), True),\n",
    "                                                            StructField(\"lt1\", StringType(), True),\n",
    "                                                            StructField(\"qv\", IntegerType(), True),\n",
    "                                                            StructField(\"vs\", ArrayType(StructType([StructField(\"p\", IntegerType(), True),\n",
    "                                                                                                    StructField(\"a\", BooleanType(), True),\n",
    "                                                                                                    StructField(\"ta\", TimestampType(), True),\n",
    "                                                                                                    StructField(\"py\", FloatType(), True),\n",
    "                                                                                                    StructField(\"px\", FloatType(), True),\n",
    "                                                                                                    StructField(\"sv\", StringType(), True),\n",
    "                                                                                                    StructField(\"is\", StringType(), True)\n",
    "                                                                                                    ])\n",
    "                                                                                        )\n",
    "                                                                        )\n",
    "                                                            ])\n",
    "                                                )\n",
    "                                )\n",
    "                    ])\n"
   ]
  },
  {
   "cell_type": "code",
   "execution_count": 7,
   "metadata": {},
   "outputs": [],
   "source": [
    "# Leitura incremental de arquivos JSON da camada raw\n",
    "df_stream = spark.read.format(\"json\").schema(schema).load(raw + '/datepartition=2024-09-24')"
   ]
  },
  {
   "cell_type": "code",
   "execution_count": 8,
   "metadata": {},
   "outputs": [
    {
     "name": "stdout",
     "output_type": "stream",
     "text": [
      "+-----+--------------------+\n",
      "|   hr|                   l|\n",
      "+-----+--------------------+\n",
      "|08:27|[{172X-10, 861, 1...|\n",
      "|08:13|[{172X-10, 861, 1...|\n",
      "|08:25|[{172X-10, 861, 1...|\n",
      "|08:09|[{172X-10, 861, 1...|\n",
      "|08:21|[{172X-10, 861, 1...|\n",
      "|08:17|[{172X-10, 861, 1...|\n",
      "|08:23|[{172X-10, 861, 1...|\n",
      "|08:19|[{172X-10, 861, 1...|\n",
      "|08:05|[{172X-10, 33629,...|\n",
      "|08:15|[{172X-10, 861, 1...|\n",
      "|08:11|[{172X-10, 861, 1...|\n",
      "|08:07|[{172X-10, 861, 1...|\n",
      "|08:31|[{172X-10, 861, 1...|\n",
      "|08:29|[{172X-10, 861, 1...|\n",
      "|08:33|[{172X-10, 861, 1...|\n",
      "|08:37|[{172X-10, 861, 1...|\n",
      "|08:41|[{172X-10, 861, 1...|\n",
      "|08:01|[{172X-10, 33629,...|\n",
      "|08:39|[{172X-10, 861, 1...|\n",
      "|08:43|[{172X-10, 861, 1...|\n",
      "+-----+--------------------+\n",
      "only showing top 20 rows\n",
      "\n"
     ]
    }
   ],
   "source": [
    "df_stream.show()"
   ]
  },
  {
   "cell_type": "code",
   "execution_count": 9,
   "metadata": {},
   "outputs": [],
   "source": [
    "from pyspark.sql.functions import concat_ws, sha1\n",
    "from pyspark.sql.functions import (\n",
    "    explode, col, to_timestamp, when, from_utc_timestamp, to_date\n",
    ")\n",
    "from pyspark.sql.types import DoubleType\n",
    "\n",
    "# Assumindo que 'df' é o DataFrame original carregado do JSON da SPTrans\n",
    "\n",
    "df_final = df_stream.select(\n",
    "    to_timestamp(col(\"hr\")).alias(\"veiculo_horario_referencia\"),\n",
    "    explode(\"l\").alias(\"linha\")\n",
    ").select(\n",
    "    col(\"veiculo_horario_referencia\"),\n",
    "    col(\"linha.c\").alias(\"veiculo_letreiro_completo\"),\n",
    "    col(\"linha.cl\").alias(\"veiculo_linha_codigo\"),\n",
    "    col(\"linha.sl\").alias(\"veiculo_sentido\"),\n",
    "    col(\"linha.lt0\").alias(\"veiculo_letreiro_destino\"),\n",
    "    col(\"linha.lt1\").alias(\"veiculo_letreiro_origem\"),\n",
    "    col(\"linha.qv\").alias(\"qtde_veiculos_linha\"),\n",
    "    explode(\"linha.vs\").alias(\"veiculo\")\n",
    ").select(\n",
    "    \"*\",\n",
    "    col(\"veiculo.p\").alias(\"veiculo_prefixo\"),\n",
    "    col(\"veiculo.a\").alias(\"veiculo_acessibilidade\"),\n",
    "    col(\"veiculo.ta\").alias(\"veiculo_horario_utc_captura\"),\n",
    "    col(\"veiculo.py\").cast(DoubleType()).alias(\"veiculo_latitude\"),\n",
    "    col(\"veiculo.px\").cast(DoubleType()).alias(\"veiculo_longitude\")\n",
    ").drop(\"linha\", \"veiculo\")\n",
    "\n",
    "# Tratamento do sentido do veículo\n",
    "df_final = df_final.withColumn(\n",
    "    \"veiculo_sentido\",\n",
    "    when(col(\"veiculo_sentido\") == 1, \"Bairro\")\n",
    "    .when(col(\"veiculo_sentido\") == 2, \"Centro\")\n",
    "    .otherwise(col(\"veiculo_sentido\"))\n",
    ")\n",
    "\n",
    "# Tratamento da acessibilidade\n",
    "df_final = df_final.withColumn(\n",
    "    \"veiculo_acessibilidade\",\n",
    "    when(col(\"veiculo_acessibilidade\") == \"true\", \"Acessível\")\n",
    "    .when(col(\"veiculo_acessibilidade\") == \"false\", \"Não acessível\")\n",
    "    .otherwise(\"Informação não disponível\")\n",
    ")\n",
    "\n",
    "# Converter horário UTC para horário local (São Paulo, UTC-3)\n",
    "df_final = df_final.withColumn(\n",
    "    \"veiculo_horario_local_captura\",\n",
    "    from_utc_timestamp(to_timestamp(col(\"veiculo_horario_utc_captura\")), \"America/Sao_Paulo\")\n",
    ")\n",
    "\n",
    "# Adicionar coluna com o tipo de operação da linha\n",
    "df_final = df_final.withColumn(\n",
    "    \"tipo_operacao_linha\",\n",
    "    when(col(\"veiculo_letreiro_completo\").substr(-2, 2) == \"10\", \"Linha Base\")\n",
    "    .when(col(\"veiculo_letreiro_completo\").substr(-2, 2).isin(\"21\", \"23\", \"32\", \"41\"), \"Linha de Atendimento\")\n",
    "    .otherwise(\"Outro tipo de operação\")\n",
    ")\n",
    "\n",
    "# Criar uma coluna 'id' com um identificador único usando SHA-256\n",
    "df_final = df_final.withColumn(\n",
    "    \"id\",\n",
    "    sha1(\n",
    "        concat_ws(\n",
    "            \"-\", \n",
    "            col(\"veiculo_letreiro_completo\"),\n",
    "            col(\"veiculo_linha_codigo\"),\n",
    "            col(\"veiculo_prefixo\"),\n",
    "            col(\"veiculo_horario_local_captura\"),\n",
    "            col(\"veiculo_latitude\"),\n",
    "            col(\"veiculo_longitude\")\n",
    "        )\n",
    "    )\n",
    ")"
   ]
  },
  {
   "cell_type": "code",
   "execution_count": 10,
   "metadata": {},
   "outputs": [
    {
     "name": "stdout",
     "output_type": "stream",
     "text": [
      "+--------------------------+-------------------------+--------------------+---------------+------------------------+-----------------------+-------------------+---------------+----------------------+---------------------------+-------------------+-------------------+-----------------------------+-------------------+--------------------+\n",
      "|veiculo_horario_referencia|veiculo_letreiro_completo|veiculo_linha_codigo|veiculo_sentido|veiculo_letreiro_destino|veiculo_letreiro_origem|qtde_veiculos_linha|veiculo_prefixo|veiculo_acessibilidade|veiculo_horario_utc_captura|   veiculo_latitude|  veiculo_longitude|veiculo_horario_local_captura|tipo_operacao_linha|                  id|\n",
      "+--------------------------+-------------------------+--------------------+---------------+------------------------+-----------------------+-------------------+---------------+----------------------+---------------------------+-------------------+-------------------+-----------------------------+-------------------+--------------------+\n",
      "|       2024-09-24 08:27:00|                  172X-10|                 861|         Bairro|           METRÔ TATUAPÉ|         PQ. NOVO MUNDO|                  8|          26525|             Acessível|        2024-09-24 11:27:05| -23.52714729309082|-46.583438873291016|          2024-09-24 08:27:05|         Linha Base|8012a620caf1eeb9c...|\n",
      "|       2024-09-24 08:27:00|                  172X-10|                 861|         Bairro|           METRÔ TATUAPÉ|         PQ. NOVO MUNDO|                  8|          26038|             Acessível|        2024-09-24 11:27:33|-23.524932861328125| -46.56895065307617|          2024-09-24 08:27:33|         Linha Base|f5743e0a88fef5086...|\n",
      "|       2024-09-24 08:27:00|                  172X-10|                 861|         Bairro|           METRÔ TATUAPÉ|         PQ. NOVO MUNDO|                  8|          26205|             Acessível|        2024-09-24 11:27:29|-23.534521102905273|-46.575584411621094|          2024-09-24 08:27:29|         Linha Base|ce816533b9dd4795d...|\n",
      "|       2024-09-24 08:27:00|                  172X-10|                 861|         Bairro|           METRÔ TATUAPÉ|         PQ. NOVO MUNDO|                  8|          26289|             Acessível|        2024-09-24 11:26:53| -23.51734733581543| -46.56850051879883|          2024-09-24 08:26:53|         Linha Base|8877e19acaef8ee36...|\n",
      "|       2024-09-24 08:27:00|                  172X-10|                 861|         Bairro|           METRÔ TATUAPÉ|         PQ. NOVO MUNDO|                  8|          26502|             Acessível|        2024-09-24 11:27:17| -23.50494956970215| -46.56618118286133|          2024-09-24 08:27:17|         Linha Base|a1ff3e871cb877410...|\n",
      "|       2024-09-24 08:27:00|                  172X-10|                 861|         Bairro|           METRÔ TATUAPÉ|         PQ. NOVO MUNDO|                  8|          26186|             Acessível|        2024-09-24 11:26:08|-23.527067184448242| -46.58320236206055|          2024-09-24 08:26:08|         Linha Base|bb79a4b76dd13b81c...|\n",
      "|       2024-09-24 08:27:00|                  172X-10|                 861|         Bairro|           METRÔ TATUAPÉ|         PQ. NOVO MUNDO|                  8|          26283|             Acessível|        2024-09-24 11:27:08|-23.539852142333984|  -46.5770149230957|          2024-09-24 08:27:08|         Linha Base|7635a34f59dae0eae...|\n",
      "|       2024-09-24 08:27:00|                  172X-10|                 861|         Bairro|           METRÔ TATUAPÉ|         PQ. NOVO MUNDO|                  8|          26014|             Acessível|        2024-09-24 11:27:09|-23.504398345947266| -46.56474304199219|          2024-09-24 08:27:09|         Linha Base|efe5e9a87dc3ddb21...|\n",
      "|       2024-09-24 08:27:00|                  8700-10|               34645|         Centro|    PÇA. RAMOS DE AZE...|      TERM. CAMPO LIMPO|                 12|          81761|             Acessível|        2024-09-24 11:27:36|-23.631027221679688|-46.773643493652344|          2024-09-24 08:27:36|         Linha Base|f52e93d066437fda8...|\n",
      "|       2024-09-24 08:27:00|                  8700-10|               34645|         Centro|    PÇA. RAMOS DE AZE...|      TERM. CAMPO LIMPO|                 12|          81764|             Acessível|        2024-09-24 11:27:05|-23.631296157836914|-46.773033142089844|          2024-09-24 08:27:05|         Linha Base|1a9a27077f6c3bbd9...|\n",
      "|       2024-09-24 08:27:00|                  8700-10|               34645|         Centro|    PÇA. RAMOS DE AZE...|      TERM. CAMPO LIMPO|                 12|          81767|             Acessível|        2024-09-24 11:26:57|-23.631093978881836| -46.77348327636719|          2024-09-24 08:26:57|         Linha Base|8502a4273cd9ab3ef...|\n",
      "|       2024-09-24 08:27:00|                  8700-10|               34645|         Centro|    PÇA. RAMOS DE AZE...|      TERM. CAMPO LIMPO|                 12|          81375|             Acessível|        2024-09-24 11:27:10|  -23.6090030670166|      -46.751953125|          2024-09-24 08:27:10|         Linha Base|c1024f4cab9ec949b...|\n",
      "|       2024-09-24 08:27:00|                  8700-10|               34645|         Centro|    PÇA. RAMOS DE AZE...|      TERM. CAMPO LIMPO|                 12|          81072|             Acessível|        2024-09-24 11:27:37| -23.57916831970215| -46.71026611328125|          2024-09-24 08:27:37|         Linha Base|feac48083161920b2...|\n",
      "|       2024-09-24 08:27:00|                  8700-10|               34645|         Centro|    PÇA. RAMOS DE AZE...|      TERM. CAMPO LIMPO|                 12|          81754|             Acessível|        2024-09-24 11:27:05|  -23.6090030670166|      -46.751953125|          2024-09-24 08:27:05|         Linha Base|3f9f1b8413ed60202...|\n",
      "|       2024-09-24 08:27:00|                  8700-10|               34645|         Centro|    PÇA. RAMOS DE AZE...|      TERM. CAMPO LIMPO|                 12|          81923|             Acessível|        2024-09-24 11:27:21|-23.623334884643555| -46.76373291015625|          2024-09-24 08:27:21|         Linha Base|fadcd5b5cc14725cb...|\n",
      "|       2024-09-24 08:27:00|                  8700-10|               34645|         Centro|    PÇA. RAMOS DE AZE...|      TERM. CAMPO LIMPO|                 12|          81755|             Acessível|        2024-09-24 11:27:10|-23.567041397094727| -46.68332290649414|          2024-09-24 08:27:10|         Linha Base|2cd6a67abc1d613d6...|\n",
      "|       2024-09-24 08:27:00|                  8700-10|               34645|         Centro|    PÇA. RAMOS DE AZE...|      TERM. CAMPO LIMPO|                 12|          81751|             Acessível|        2024-09-24 11:27:14|  -23.6295223236084| -46.76961135864258|          2024-09-24 08:27:14|         Linha Base|d215930730e0b5fde...|\n",
      "|       2024-09-24 08:27:00|                  8700-10|               34645|         Centro|    PÇA. RAMOS DE AZE...|      TERM. CAMPO LIMPO|                 12|          81911|             Acessível|        2024-09-24 11:27:29|-23.547456741333008| -46.64002227783203|          2024-09-24 08:27:29|         Linha Base|771ba1d62dfd99983...|\n",
      "|       2024-09-24 08:27:00|                  8700-10|               34645|         Centro|    PÇA. RAMOS DE AZE...|      TERM. CAMPO LIMPO|                 12|          81769|             Acessível|        2024-09-24 11:27:20|  -23.5479736328125| -46.64945602416992|          2024-09-24 08:27:20|         Linha Base|18694b733148f9bd4...|\n",
      "|       2024-09-24 08:27:00|                  8700-10|               34645|         Centro|    PÇA. RAMOS DE AZE...|      TERM. CAMPO LIMPO|                 12|          81418|             Acessível|        2024-09-24 11:27:06|-23.606321334838867| -46.74842071533203|          2024-09-24 08:27:06|         Linha Base|65d5b84b4b17c5b41...|\n",
      "+--------------------------+-------------------------+--------------------+---------------+------------------------+-----------------------+-------------------+---------------+----------------------+---------------------------+-------------------+-------------------+-----------------------------+-------------------+--------------------+\n",
      "only showing top 20 rows\n",
      "\n"
     ]
    }
   ],
   "source": [
    "df_final.show()"
   ]
  },
  {
   "cell_type": "code",
   "execution_count": 11,
   "metadata": {},
   "outputs": [
    {
     "data": {
      "text/plain": [
       "4635019"
      ]
     },
     "execution_count": 11,
     "metadata": {},
     "output_type": "execute_result"
    }
   ],
   "source": [
    "df_final.count()\n",
    "#1802572"
   ]
  },
  {
   "cell_type": "code",
   "execution_count": 12,
   "metadata": {},
   "outputs": [],
   "source": [
    "from pyspark.sql import functions as F\n",
    "import time\n",
    "\n",
    "# Supondo que df_final já está definido e contém uma coluna 'id' e 'veiculo_horario_referencia'\n",
    "\n",
    "# Remover registros duplicados com base no campo 'id'\n",
    "df_final_unique = df_final.dropDuplicates([\"id\"])\n",
    "\n",
    "# Adiciona uma coluna com o formato 'yyyy-MM-dd-HH' baseado em veiculo_horario_referencia\n",
    "df_final_unique = df_final_unique.withColumn(\n",
    "    \"datepartition\",\n",
    "    F.date_format(F.col(\"veiculo_horario_local_captura\"), \"yyyy-MM-dd-HH\")\n",
    ")\n",
    "\n",
    "# Ajuste o número de partições, se necessário\n",
    "#df_final_unique = df_final_unique.repartition(4, \"datepartition\")\n",
    "\n",
    "# Escreve o stream em CSV particionado por 'yyyy-MM-dd-HH', onde novos dados serão continuamente adicionados\n",
    "df_final_unique.write \\\n",
    "    .format(\"csv\") \\\n",
    "    .option(\"path\", trusted) \\\n",
    "    .option(\"checkpointLocation\", checkpoint) \\\n",
    "    .partitionBy(\"datepartition\") \\\n",
    "    .option(\"header\", \"true\") \\\n",
    "    .mode(\"append\") \\\n",
    "    .save()"
   ]
  },
  {
   "cell_type": "code",
   "execution_count": 13,
   "metadata": {},
   "outputs": [],
   "source": [
    "spark.stop()"
   ]
  }
 ],
 "metadata": {
  "kernelspec": {
   "display_name": "Python 3 (ipykernel)",
   "language": "python",
   "name": "python3"
  },
  "language_info": {
   "codemirror_mode": {
    "name": "ipython",
    "version": 3
   },
   "file_extension": ".py",
   "mimetype": "text/x-python",
   "name": "python",
   "nbconvert_exporter": "python",
   "pygments_lexer": "ipython3",
   "version": "3.11.6"
  }
 },
 "nbformat": 4,
 "nbformat_minor": 2
}
