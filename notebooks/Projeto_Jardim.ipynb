{
 "cells": [
  {
   "cell_type": "code",
   "execution_count": 1,
   "metadata": {},
   "outputs": [],
   "source": [
    "from pyspark.sql import SparkSession\n",
    "from delta.tables import DeltaTable"
   ]
  },
  {
   "cell_type": "code",
   "execution_count": 2,
   "metadata": {},
   "outputs": [],
   "source": [
    "spark = SparkSession.builder \\\n",
    "    .appName('User Raw to Trusted') \\\n",
    "    .config('spark.sql.extensions','io.delta.sql.DeltaSparkSessionExtension') \\\n",
    "    .config('spark.sql.catalog.spark_catalog','org.apache.spark.sql.delta.catalog.DeltaCatalog') \\\n",
    "    .getOrCreate()"
   ]
  },
  {
   "cell_type": "code",
   "execution_count": 3,
   "metadata": {},
   "outputs": [
    {
     "data": {
      "text/html": [
       "\n",
       "            <div>\n",
       "                <p><b>SparkSession - in-memory</b></p>\n",
       "                \n",
       "        <div>\n",
       "            <p><b>SparkContext</b></p>\n",
       "\n",
       "            <p><a href=\"http://spark-master:4041\">Spark UI</a></p>\n",
       "\n",
       "            <dl>\n",
       "              <dt>Version</dt>\n",
       "                <dd><code>v3.3.1</code></dd>\n",
       "              <dt>Master</dt>\n",
       "                <dd><code>local[*]</code></dd>\n",
       "              <dt>AppName</dt>\n",
       "                <dd><code>User Raw to Trusted</code></dd>\n",
       "            </dl>\n",
       "        </div>\n",
       "        \n",
       "            </div>\n",
       "        "
      ],
      "text/plain": [
       "<pyspark.sql.session.SparkSession at 0x7f9a7d746da0>"
      ]
     },
     "execution_count": 3,
     "metadata": {},
     "output_type": "execute_result"
    }
   ],
   "source": [
    "spark"
   ]
  },
  {
   "cell_type": "code",
   "execution_count": 4,
   "metadata": {},
   "outputs": [],
   "source": [
    "raw = 's3a://raw/user'\n",
    "trusted = 's3a://trusted/user'"
   ]
  },
  {
   "cell_type": "code",
   "execution_count": 5,
   "metadata": {},
   "outputs": [],
   "source": [
    "df_raw = spark.read.json(raw)"
   ]
  },
  {
   "cell_type": "code",
   "execution_count": 6,
   "metadata": {},
   "outputs": [],
   "source": [
    "from pyspark.sql import Window\n",
    "from pyspark.sql.functions import row_number \n",
    "from pyspark.sql.functions import col\n",
    "\n",
    "w = Window.partitionBy('id').orderBy(df_raw.uid.desc())\n",
    "df_raw = df_raw.withColumn(\"rank\",row_number().over(w))\n",
    "df_raw = df_raw.where(df_raw.rank == 1)"
   ]
  },
  {
   "cell_type": "code",
   "execution_count": 7,
   "metadata": {},
   "outputs": [],
   "source": [
    "df_merge = df_raw.select( \\\n",
    "                          col('username').alias('username') \\\n",
    "                         ,col('id').alias('id')  \\\n",
    "                         ,col('first_name').alias('first_name')  \\\n",
    "                         ,col('last_name').alias('last_name')  \\\n",
    "                         ,col('email').alias('email')  \\\n",
    "                        )"
   ]
  },
  {
   "cell_type": "code",
   "execution_count": 8,
   "metadata": {},
   "outputs": [
    {
     "name": "stdout",
     "output_type": "stream",
     "text": [
      "+------------------+---+----------+-----------+--------------------+\n",
      "|          username| id|first_name|  last_name|               email|\n",
      "+------------------+---+----------+-----------+--------------------+\n",
      "|       keven.bogan|  1|     Keven|      Bogan|keven.bogan@email...|\n",
      "|       adan.reilly|  2|      Adan|     Reilly|adan.reilly@email...|\n",
      "|       otha.legros|  4|      Otha|     Legros|otha.legros@email...|\n",
      "|     gladis.zemlak|  5|    Gladis|     Zemlak|gladis.zemlak@ema...|\n",
      "|  roseanna.carroll|  8|  Roseanna|    Carroll|roseanna.carroll@...|\n",
      "|    linwood.miller| 10|   Linwood|     Miller|linwood.miller@em...|\n",
      "|   sunny.lueilwitz| 11|     Sunny|  Lueilwitz|sunny.lueilwitz@e...|\n",
      "|     andrea.harris| 12|    Andrea|     Harris|andrea.harris@ema...|\n",
      "|   johnetta.carter| 13|  Johnetta|     Carter|johnetta.carter@e...|\n",
      "|  eusebio.cummings| 14|   Eusebio|   Cummings|eusebio.cummings@...|\n",
      "|   evita.mcdermott| 15|     Evita|  McDermott|evita.mcdermott@e...|\n",
      "|    scott.schimmel| 16|     Scott|   Schimmel|scott.schimmel@em...|\n",
      "|keenan.cruickshank| 17|    Keenan|Cruickshank|keenan.cruickshan...|\n",
      "|freddie.vandervort| 18|   Freddie| Vandervort|freddie.vandervor...|\n",
      "|       andre.upton| 19|     Andre|      Upton|andre.upton@email...|\n",
      "|      lamont.frami| 20|    Lamont|      Frami|lamont.frami@emai...|\n",
      "|       sid.waelchi| 21|       Sid|    Waelchi|sid.waelchi@email...|\n",
      "|     scotty.rempel| 22|    Scotty|     Rempel|scotty.rempel@ema...|\n",
      "|   vernetta.kirlin| 23|  Vernetta|     Kirlin|vernetta.kirlin@e...|\n",
      "|    deshawn.kirlin| 24|   Deshawn|     Kirlin|deshawn.kirlin@em...|\n",
      "+------------------+---+----------+-----------+--------------------+\n",
      "only showing top 20 rows\n",
      "\n"
     ]
    }
   ],
   "source": [
    "df_merge.show()"
   ]
  },
  {
   "cell_type": "code",
   "execution_count": 9,
   "metadata": {},
   "outputs": [],
   "source": [
    "if DeltaTable.isDeltaTable(spark,trusted):\n",
    "    deltaTable = DeltaTable.forPath(spark,trusted)\n",
    "else:\n",
    "    df_merge.write.format('delta').save(trusted)\n",
    "    deltaTable = DeltaTable.forPath(spark,trusted)"
   ]
  },
  {
   "cell_type": "code",
   "execution_count": 10,
   "metadata": {},
   "outputs": [
    {
     "data": {
      "text/plain": [
       "15"
      ]
     },
     "execution_count": 10,
     "metadata": {},
     "output_type": "execute_result"
    }
   ],
   "source": [
    "##Verificação\n",
    "\n",
    "df_verificacao = spark.read.format('binaryFile').load(trusted)\n",
    "df_verificacao.count()"
   ]
  },
  {
   "cell_type": "code",
   "execution_count": 11,
   "metadata": {},
   "outputs": [],
   "source": [
    "deltaTable.alias('trusted') \\\n",
    "    .merge(\n",
    "        df_merge.alias('raw'),\n",
    "        'trusted.id = raw.id') \\\n",
    "    .whenMatchedUpdate(set = {\n",
    "        'first_name': 'raw.first_name',\n",
    "        'last_name': 'raw.last_name',\n",
    "        'email': 'raw.email',\n",
    "        'username': 'raw.username'}) \\\n",
    "    .whenNotMatchedInsert(values={\n",
    "         'first_name': 'raw.first_name',\n",
    "        'last_name': 'raw.last_name',\n",
    "        'email': 'raw.email',\n",
    "        'username': 'raw.username',\n",
    "        'id': 'raw.id'\n",
    "        }) \\\n",
    "    .execute()"
   ]
  }
 ],
 "metadata": {
  "kernelspec": {
   "display_name": "Python 3 (ipykernel)",
   "language": "python",
   "name": "python3"
  },
  "language_info": {
   "codemirror_mode": {
    "name": "ipython",
    "version": 3
   },
   "file_extension": ".py",
   "mimetype": "text/x-python",
   "name": "python",
   "nbconvert_exporter": "python",
   "pygments_lexer": "ipython3",
   "version": "3.10.8"
  }
 },
 "nbformat": 4,
 "nbformat_minor": 2
}
