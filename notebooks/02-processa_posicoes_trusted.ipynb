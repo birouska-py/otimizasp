{
 "cells": [
  {
   "cell_type": "code",
   "execution_count": 1,
   "metadata": {},
   "outputs": [],
   "source": [
    "from pyspark.sql import SparkSession"
   ]
  },
  {
   "cell_type": "code",
   "execution_count": 2,
   "metadata": {},
   "outputs": [],
   "source": [
    "spark_server = \"spark://spark-master-otmzsp:7077\"\n",
    "minio_server = \"http://minio-otmzsp:9000\" \n",
    "\n",
    "is_incremental = False\n"
   ]
  },
  {
   "cell_type": "code",
   "execution_count": 3,
   "metadata": {},
   "outputs": [],
   "source": [
    "spark = SparkSession.builder \\\n",
    "    .appName(\"Processa Posições Trusted\") \\\n",
    "    .master(spark_server) \\\n",
    "    .config(\"spark.jars.packages\", \"io.delta:delta-spark_2.12:3.1.0,org.apache.hadoop:hadoop-aws:3.3.4\") \\\n",
    "    .config(\"spark.hadoop.fs.s3a.access.key\", \"admin\") \\\n",
    "    .config(\"spark.hadoop.fs.s3a.secret.key\", \"minioadmin\") \\\n",
    "    .config(\"spark.hadoop.fs.s3a.endpoint\", minio_server) \\\n",
    "    .config(\"spark.hadoop.fs.s3a.connection.ssl.enabled\", \"false\") \\\n",
    "    .config(\"spark.hadoop.fs.s3a.path.style.access\", \"true\") \\\n",
    "    .config(\"spark.sql.extensions\", \"io.delta.sql.DeltaSparkSessionExtension\") \\\n",
    "    .config(\"spark.sql.catalog.spark_catalog\", \"org.apache.spark.sql.delta.catalog.DeltaCatalog\") \\\n",
    "    .getOrCreate()"
   ]
  },
  {
   "cell_type": "code",
   "execution_count": 4,
   "metadata": {},
   "outputs": [
    {
     "data": {
      "text/html": [
       "\n",
       "            <div>\n",
       "                <p><b>SparkSession - in-memory</b></p>\n",
       "                \n",
       "        <div>\n",
       "            <p><b>SparkContext</b></p>\n",
       "\n",
       "            <p><a href=\"http://df0f425e685d:4040\">Spark UI</a></p>\n",
       "\n",
       "            <dl>\n",
       "              <dt>Version</dt>\n",
       "                <dd><code>v3.5.0</code></dd>\n",
       "              <dt>Master</dt>\n",
       "                <dd><code>spark://spark-master-otmzsp:7077</code></dd>\n",
       "              <dt>AppName</dt>\n",
       "                <dd><code>Processa Posições Trusted</code></dd>\n",
       "            </dl>\n",
       "        </div>\n",
       "        \n",
       "            </div>\n",
       "        "
      ],
      "text/plain": [
       "<pyspark.sql.session.SparkSession at 0x72fc1432e5d0>"
      ]
     },
     "execution_count": 4,
     "metadata": {},
     "output_type": "execute_result"
    }
   ],
   "source": [
    "spark"
   ]
  },
  {
   "cell_type": "code",
   "execution_count": 5,
   "metadata": {},
   "outputs": [],
   "source": [
    "trusted = 's3a://trusted/posicoes'"
   ]
  },
  {
   "cell_type": "code",
   "execution_count": 7,
   "metadata": {},
   "outputs": [
    {
     "name": "stdout",
     "output_type": "stream",
     "text": [
      "2024-09-20\n"
     ]
    }
   ],
   "source": [
    "from datetime import datetime, timedelta\n",
    "import pytz\n",
    "\n",
    "# Define o fuso horário de Brasília (GMT-3)\n",
    "br_tz = pytz.timezone('America/Sao_Paulo')\n",
    "\n",
    "# Obtém a data e hora atual em GMT-3\n",
    "now_gmt3 = datetime.now(br_tz)\n",
    "\n",
    "yesterday_time_br = now_gmt3 #- timedelta(days=1)\n",
    "\n",
    "# Formata a data\n",
    "datepartition = yesterday_time_br.strftime(\"%Y-%m-%d\")\n",
    "\n",
    "print(datepartition)\n"
   ]
  },
  {
   "cell_type": "code",
   "execution_count": 9,
   "metadata": {},
   "outputs": [
    {
     "name": "stdout",
     "output_type": "stream",
     "text": [
      "+--------------------------+-------------------------+--------------------+---------------+------------------------+-----------------------+-------------------+---------------+----------------------+---------------------------+-------------------+-------------------+-----------------------------+--------------------+--------------------+-------------+\n",
      "|veiculo_horario_referencia|veiculo_letreiro_completo|veiculo_linha_codigo|veiculo_sentido|veiculo_letreiro_destino|veiculo_letreiro_origem|qtde_veiculos_linha|veiculo_prefixo|veiculo_acessibilidade|veiculo_horario_utc_captura|   veiculo_latitude|  veiculo_longitude|veiculo_horario_local_captura| tipo_operacao_linha|                  id|datepartition|\n",
      "+--------------------------+-------------------------+--------------------+---------------+------------------------+-----------------------+-------------------+---------------+----------------------+---------------------------+-------------------+-------------------+-----------------------------+--------------------+--------------------+-------------+\n",
      "|       2024-09-20 08:11:00|                  546T-10|                 272|         Bairro|        TERM. STO. AMARO|            VL. GUACURI|                 10|          68491|             Acessível|        2024-09-20 11:10:51| -23.65696144104004|-46.699623107910156|          2024-09-20 08:10:51|          Linha Base|3461cbeba20ea92de...|   2024-09-20|\n",
      "|       2024-09-20 08:11:00|                  675G-10|               32874|         Centro|         METRÔ JABAQUARA|        PQ. RES. COCAIA|                  8|          61218|             Acessível|        2024-09-20 11:10:49|-23.683917999267578| -46.69169235229492|          2024-09-20 08:10:49|          Linha Base|55d9e1ccd72f008da...|   2024-09-20|\n",
      "|       2024-09-20 08:11:00|                  4030-10|                1100|         Bairro|        SHOP. ARICANDUVA|        FAZENDA DA JUTA|                  7|          55005|             Acessível|        2024-09-20 11:11:20|-23.593915939331055| -46.48830032348633|          2024-09-20 08:11:20|          Linha Base|e019b387e5947c0df...|   2024-09-20|\n",
      "|       2024-09-20 08:11:00|                  573T-10|                1632|         Bairro|            METRÔ CARRÃO|        TERM. SAPOPEMBA|                  8|          55208|             Acessível|        2024-09-20 11:11:25| -23.54191017150879|-46.558292388916016|          2024-09-20 08:11:25|          Linha Base|e3830633a35beb4fb...|   2024-09-20|\n",
      "|       2024-09-20 08:11:00|                  1722-10|                 864|         Bairro|          METRÔ TUCURUVI|             JD. MARINA|                 13|          26189|             Acessível|        2024-09-20 11:11:03|-23.479045867919922| -46.60157012939453|          2024-09-20 08:11:03|          Linha Base|01319a7c6c4483cdd...|   2024-09-20|\n",
      "|       2024-09-20 08:11:00|                  342M-10|               33515|         Centro|             TERM. PENHA|       TERM. SÃO MATEUS|                 16|          41783|             Acessível|        2024-09-20 11:11:18|  -23.5316104888916| -46.55950927734375|          2024-09-20 08:11:18|          Linha Base|1acb700f74dcb8c01...|   2024-09-20|\n",
      "|       2024-09-20 08:11:00|                  5128-10|               33896|         Centro|         METRÔ CONCEIÇÃO|              JD. APURÁ|                  7|          68450|             Acessível|        2024-09-20 11:11:18|-23.635494232177734|  -46.6414794921875|          2024-09-20 08:11:18|          Linha Base|e3acba86a2fdbe0b3...|   2024-09-20|\n",
      "|       2024-09-20 08:11:00|                  819A-10|               33571|         Centro|           JD. PRIMAVERA|        CPTM VL. AURORA|                 19|          16131|             Acessível|        2024-09-20 11:10:50| -23.47158432006836|-46.674720764160156|          2024-09-20 08:10:50|          Linha Base|2891e304f39cfa0f6...|   2024-09-20|\n",
      "|       2024-09-20 08:11:00|                  695H-10|               33964|         Centro|        TERM. STO. AMARO|            JD. HERPLIN|                  7|          61444|             Acessível|        2024-09-20 11:11:16|-23.727548599243164|-46.699378967285156|          2024-09-20 08:11:16|          Linha Base|65d330dc234d0aa6c...|   2024-09-20|\n",
      "|       2024-09-20 08:11:00|                  7040-10|               33544|         Centro|               PINHEIROS|           PARAISÓPOLIS|                 11|          86340|             Acessível|        2024-09-20 11:11:05|-23.623783111572266|-46.727943420410156|          2024-09-20 08:11:05|          Linha Base|b2ea9018eec81a3e7...|   2024-09-20|\n",
      "|       2024-09-20 08:11:00|                  1178-10|                 132|         Bairro|         PÇA. DO CORREIO|             SÃO MIGUEL|                  8|          31513|             Acessível|        2024-09-20 11:11:15|-23.518341064453125| -46.62730407714844|          2024-09-20 08:11:15|          Linha Base|24d1e011bf7db1632...|   2024-09-20|\n",
      "|       2024-09-20 08:11:00|                  6913-10|                1465|         Bairro|          TERM. BANDEIRA|         TERM. VARGINHA|                 16|          61328|             Acessível|        2024-09-20 11:10:58|-23.767559051513672|-46.716190338134766|          2024-09-20 08:10:58|          Linha Base|8513057df81bbaee5...|   2024-09-20|\n",
      "|       2024-09-20 08:11:00|                  175T-10|                 623|         Bairro|         METRÔ JABAQUARA|          METRÔ SANTANA|                 13|          21776|             Acessível|        2024-09-20 11:11:15|-23.653135299682617| -46.63733673095703|          2024-09-20 08:11:15|          Linha Base|4af78765b75c7b995...|   2024-09-20|\n",
      "|       2024-09-20 08:11:00|                  5142-10|               34394|         Centro|    TERM. PQ. D. PEDR...|        TERM. SAPOPEMBA|                  8|          52138|             Acessível|        2024-09-20 11:11:12| -23.58252716064453|  -46.5633544921875|          2024-09-20 08:11:12|          Linha Base|c1be144b53112bed5...|   2024-09-20|\n",
      "|       2024-09-20 08:11:00|                  1788-10|               33421|         Centro|           METRÔ SANTANA|           JD. FONTÁLIS|                  8|          22003|             Acessível|        2024-09-20 11:11:07| -23.50273323059082| -46.62385177612305|          2024-09-20 08:11:07|          Linha Base|a09c0f8c73b76673f...|   2024-09-20|\n",
      "|       2024-09-20 08:11:00|                  1701-22|                2477|         Bairro|          METRÔ TUCURUVI|             JOVA RURAL|                  3|          26046|             Acessível|        2024-09-20 11:10:50| -23.46734046936035|  -46.5911979675293|          2024-09-20 08:10:50|Outro tipo de ope...|b3ef23208b2876d54...|   2024-09-20|\n",
      "|       2024-09-20 08:11:00|                  4310-21|                2475|         Bairro|    TERM. PQ. D. PEDR...|            ARTUR ALVIM|                  6|          31193|             Acessível|        2024-09-20 11:11:22|-23.551151275634766| -46.60859298706055|          2024-09-20 08:11:22|Linha de Atendimento|dd9c2d4c01f3defa6...|   2024-09-20|\n",
      "|       2024-09-20 08:11:00|                  938V-10|                 813|         Bairro|       METRÔ BARRA FUNDA|       JD. VISTA ALEGRE|                 10|          16536|             Acessível|        2024-09-20 11:11:15| -23.52592658996582|-46.669559478759766|          2024-09-20 08:11:15|          Linha Base|105c9824644fa6f4c...|   2024-09-20|\n",
      "|       2024-09-20 08:11:00|                  6027-10|               32858|         Centro|        TERM. STO. AMARO|             JD. GRAUNA|                  8|          66234|             Acessível|        2024-09-20 11:10:45|-23.723304748535156| -46.68063735961914|          2024-09-20 08:10:45|          Linha Base|be92a2fb47f673c08...|   2024-09-20|\n",
      "|       2024-09-20 08:11:00|                  6030-10|                1142|         Bairro|        TERM. STO. AMARO|         UNISA-CAMPUS 1|                  8|          66503|             Acessível|        2024-09-20 11:11:01| -23.72930145263672|-46.711055755615234|          2024-09-20 08:11:01|          Linha Base|8d0e28dac392b2192...|   2024-09-20|\n",
      "+--------------------------+-------------------------+--------------------+---------------+------------------------+-----------------------+-------------------+---------------+----------------------+---------------------------+-------------------+-------------------+-----------------------------+--------------------+--------------------+-------------+\n",
      "only showing top 20 rows\n",
      "\n"
     ]
    }
   ],
   "source": [
    "from delta.tables import DeltaTable\n",
    "\n",
    "# Verificar se o diretório é uma tabela Delta\n",
    "if DeltaTable.isDeltaTable(spark, f'{trusted}/datepartition={datepartition}'):\n",
    "    df_all = spark.readStream.format(\"delta\").load(trusted) if is_incremental \\\n",
    "    else spark.read.format(\"delta\").load(trusted)\n",
    "    df_all.show()\n",
    "else:\n",
    "    print(\"O caminho especificado não contém uma tabela Delta válida.\")"
   ]
  },
  {
   "cell_type": "code",
   "execution_count": 10,
   "metadata": {},
   "outputs": [
    {
     "data": {
      "text/plain": [
       "9468677"
      ]
     },
     "execution_count": 10,
     "metadata": {},
     "output_type": "execute_result"
    }
   ],
   "source": [
    "df_all.count()"
   ]
  },
  {
   "cell_type": "code",
   "execution_count": 11,
   "metadata": {},
   "outputs": [],
   "source": [
    "# Configurações\n",
    "ES_URL = \"http://elasticsearch-otmzsp:9200\"  # URL do Elasticsearch\n",
    "KIBANA_URL = \"http://kibana-otmzsp:5601\"\n",
    "# Nome index pattern\n",
    "INDEX_NAME = \"posicoes\"  # Nome do índice\n",
    "INDEX_PATTERN_NAME = INDEX_NAME#+\"-*\""
   ]
  },
  {
   "cell_type": "code",
   "execution_count": 12,
   "metadata": {},
   "outputs": [],
   "source": [
    "try:\n",
    "    from elasticsearch import Elasticsearch\n",
    "except ImportError:\n",
    "    import subprocess\n",
    "    import sys\n",
    "    subprocess.check_call([sys.executable, \"-m\", \"pip\", \"install\", \"elasticsearch\"])\n",
    "    from elasticsearch import Elasticsearch\n"
   ]
  },
  {
   "cell_type": "code",
   "execution_count": 13,
   "metadata": {},
   "outputs": [
    {
     "name": "stdout",
     "output_type": "stream",
     "text": [
      "Índice 'posicoes' criado com sucesso.\n"
     ]
    }
   ],
   "source": [
    "import requests\n",
    "\n",
    "# Conectar ao Elasticsearch\n",
    "es = Elasticsearch(ES_URL)  # ajuste a URL se necessário\n",
    "\n",
    "# Verificar se o índice existe\n",
    "if not es.indices.exists(index=INDEX_NAME):\n",
    "    # Mapeamento do índice\n",
    "    mapping = {\n",
    "        \"mappings\": {\n",
    "            \"properties\": {\n",
    "                \"veiculo_horario_referencia\": {\n",
    "                    \"type\": \"date\"\n",
    "                },\n",
    "                \"veiculo_letreiro_completo\": {\n",
    "                    \"type\": \"text\"\n",
    "                },\n",
    "                \"veiculo_linha_codigo\": {\n",
    "                    \"type\": \"long\"\n",
    "                },\n",
    "                \"veiculo_sentido\": {\n",
    "                    \"type\": \"text\"\n",
    "                },\n",
    "                \"veiculo_letreiro_destino\": {\n",
    "                    \"type\": \"text\"\n",
    "                },\n",
    "                \"veiculo_letreiro_origem\": {\n",
    "                    \"type\": \"text\"\n",
    "                },\n",
    "                \"qtde_veiculos_linha\": {\n",
    "                    \"type\": \"long\"\n",
    "                },\n",
    "                \"veiculo_prefixo\": {\n",
    "                    \"type\": \"long\"\n",
    "                },\n",
    "                \"veiculo_acessibilidade\": {\n",
    "                    \"type\": \"text\"\n",
    "                },\n",
    "                \"veiculo_horario_utc_captura\": {\n",
    "                    \"type\": \"date\"\n",
    "                },\n",
    "                \"veiculo_latitude\": {\n",
    "                    \"type\": \"float\"\n",
    "                },\n",
    "                \"veiculo_longitude\": {\n",
    "                    \"type\": \"float\"\n",
    "                },\n",
    "                \"veiculo_horario_local_captura\": {\n",
    "                    \"type\": \"date\"\n",
    "                },\n",
    "                \"tipo_operacao_linha\": {\n",
    "                    \"type\": \"text\"\n",
    "                }\n",
    "            }\n",
    "        }\n",
    "    }\n",
    "\n",
    "    # Criar o índice com o mapeamento\n",
    "    es.indices.create(index=INDEX_NAME, body=mapping)\n",
    "    print(f\"Índice '{INDEX_NAME}' criado com sucesso.\")\n",
    "else:\n",
    "    print(f\"O índice '{INDEX_NAME}' já existe.\")\n",
    "\n"
   ]
  },
  {
   "cell_type": "code",
   "execution_count": 14,
   "metadata": {},
   "outputs": [],
   "source": [
    "from pyspark.sql import functions as F\n",
    "import requests\n",
    "import json\n",
    "\n",
    "# Supondo que df_final já contém a coluna 'veiculo_horario_referencia' (timestamp)\n",
    "\n",
    "# Criar colunas de data e hora a partir do campo de timestamp\n",
    "df_final_with_date = df_all.withColumn(\"day\", F.date_format(\"veiculo_horario_referencia\", \"yyyy-MM-dd\")) \\\n",
    "                           .withColumn(\"hour\", F.hour(\"veiculo_horario_referencia\"))\n",
    "\n",
    "# Obter dias e horas únicos\n",
    "unique_dates_hours = df_final_with_date.select(\"day\", \"hour\").distinct().collect()\n",
    "\n",
    "# Função para enviar dados para Elasticsearch\n",
    "BULK_SIZE = 10000  # Definir o tamanho do lote\n",
    "\n",
    "def insert_data_bulk(data):\n",
    "    bulk_data = \"\"\n",
    "    for document in data:\n",
    "        document = json.loads(document)\n",
    "        document_id = document.get(\"id\")  # Assumindo que o ID está no documento com a chave 'id'\n",
    "        bulk_data += f'{{ \"index\": {{ \"_index\": \"{INDEX_NAME}\", \"_id\": \"{document_id}\" }} }}' + '\\n'\n",
    "        bulk_data += f'{json.dumps(document)}' + '\\n'  # Serializa o documento de volta para JSON\n",
    "    \n",
    "    response = requests.post(f\"{ES_URL}/_bulk\", data=bulk_data.encode('utf-8'), headers={\"Content-Type\": \"application/x-ndjson\"})\n",
    "    \n",
    "    if response.status_code == 200:\n",
    "        response_data = response.json()\n",
    "        if not response_data[\"errors\"]:\n",
    "            print(f\"Dados enviados com sucesso para o Elasticsearch!\")\n",
    "        else:\n",
    "            print(f\"Erros ao enviar para o Elasticsearch: {response_data}\")\n",
    "    else:\n",
    "        print(f\"Erro ao enviar para o Elasticsearch: {response.text}\")\n",
    "\n",
    "# Loop pelos dias e horários únicos\n",
    "for row in unique_dates_hours:\n",
    "    day = row['day']\n",
    "    hour = row['hour']\n",
    "\n",
    "    # Filtrar o DataFrame para registros de um dia e hora específicos\n",
    "    df_filtered = df_final_with_date.filter((F.col(\"day\") == day) & (F.col(\"hour\") == hour))\n",
    "    \n",
    "    df_filtered = df_filtered.drop(\"day\", \"hour\", \"datepartition\")\n",
    "\n",
    "    # Converter o DataFrame para JSON\n",
    "    json_rdd = df_filtered.toJSON().collect()\n",
    "\n",
    "    # Dividir em lotes e enviar para o Elasticsearch\n",
    "    data_to_insert = []\n",
    "    for doc in json_rdd:\n",
    "        data_to_insert.append(doc)\n",
    "        \n",
    "        if len(data_to_insert) >= BULK_SIZE:\n",
    "            insert_data_bulk(data_to_insert)  # Enviar o lote\n",
    "            data_to_insert = []  # Limpar a lista\n",
    "    \n",
    "    # Enviar os dados restantes que não completaram um lote\n",
    "    if data_to_insert:\n",
    "        insert_data_bulk(data_to_insert)\n"
   ]
  },
  {
   "cell_type": "code",
   "execution_count": 21,
   "metadata": {},
   "outputs": [],
   "source": [
    "spark.stop()"
   ]
  }
 ],
 "metadata": {
  "kernelspec": {
   "display_name": "Python 3 (ipykernel)",
   "language": "python",
   "name": "python3"
  },
  "language_info": {
   "codemirror_mode": {
    "name": "ipython",
    "version": 3
   },
   "file_extension": ".py",
   "mimetype": "text/x-python",
   "name": "python",
   "nbconvert_exporter": "python",
   "pygments_lexer": "ipython3",
   "version": "3.11.6"
  }
 },
 "nbformat": 4,
 "nbformat_minor": 2
}
