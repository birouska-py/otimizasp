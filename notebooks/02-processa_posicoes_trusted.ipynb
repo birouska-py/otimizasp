{
 "cells": [
  {
   "cell_type": "code",
   "execution_count": 2,
   "metadata": {},
   "outputs": [],
   "source": [
    "from pyspark.sql import SparkSession"
   ]
  },
  {
   "cell_type": "code",
   "execution_count": 3,
   "metadata": {},
   "outputs": [],
   "source": [
    "spark_server = \"spark://spark-master-otmzsp:7077\"\n",
    "minio_server = \"http://minio-otmzsp:9000\" \n"
   ]
  },
  {
   "cell_type": "code",
   "execution_count": 4,
   "metadata": {},
   "outputs": [],
   "source": [
    "spark = SparkSession.builder \\\n",
    "    .appName(\"Processa Posições Trusted\") \\\n",
    "    .master(spark_server) \\\n",
    "    .config(\"spark.jars.packages\", \"io.delta:delta-spark_2.12:3.1.0,org.apache.hadoop:hadoop-aws:3.3.4\") \\\n",
    "    .config(\"spark.hadoop.fs.s3a.access.key\", \"admin\") \\\n",
    "    .config(\"spark.hadoop.fs.s3a.secret.key\", \"minioadmin\") \\\n",
    "    .config(\"spark.hadoop.fs.s3a.endpoint\", minio_server) \\\n",
    "    .config(\"spark.hadoop.fs.s3a.connection.ssl.enabled\", \"false\") \\\n",
    "    .config(\"spark.hadoop.fs.s3a.path.style.access\", \"true\") \\\n",
    "    .config(\"spark.sql.extensions\", \"io.delta.sql.DeltaSparkSessionExtension\") \\\n",
    "    .config(\"spark.sql.catalog.spark_catalog\", \"org.apache.spark.sql.delta.catalog.DeltaCatalog\") \\\n",
    "    .getOrCreate()"
   ]
  },
  {
   "cell_type": "code",
   "execution_count": 5,
   "metadata": {},
   "outputs": [
    {
     "data": {
      "text/html": [
       "\n",
       "            <div>\n",
       "                <p><b>SparkSession - in-memory</b></p>\n",
       "                \n",
       "        <div>\n",
       "            <p><b>SparkContext</b></p>\n",
       "\n",
       "            <p><a href=\"http://5d857f03db61:4040\">Spark UI</a></p>\n",
       "\n",
       "            <dl>\n",
       "              <dt>Version</dt>\n",
       "                <dd><code>v3.5.0</code></dd>\n",
       "              <dt>Master</dt>\n",
       "                <dd><code>spark://spark-master-otmzsp:7077</code></dd>\n",
       "              <dt>AppName</dt>\n",
       "                <dd><code>Processa Posições Trusted</code></dd>\n",
       "            </dl>\n",
       "        </div>\n",
       "        \n",
       "            </div>\n",
       "        "
      ],
      "text/plain": [
       "<pyspark.sql.session.SparkSession at 0x7e0120d27190>"
      ]
     },
     "execution_count": 5,
     "metadata": {},
     "output_type": "execute_result"
    }
   ],
   "source": [
    "spark"
   ]
  },
  {
   "cell_type": "code",
   "execution_count": 6,
   "metadata": {},
   "outputs": [],
   "source": [
    "trusted = 's3a://trusted/posicoes'"
   ]
  },
  {
   "cell_type": "code",
   "execution_count": 7,
   "metadata": {},
   "outputs": [
    {
     "name": "stdout",
     "output_type": "stream",
     "text": [
      "2024-09-20\n"
     ]
    }
   ],
   "source": [
    "from datetime import datetime, timedelta\n",
    "import pytz\n",
    "\n",
    "# Define o fuso horário de Brasília (GMT-3)\n",
    "br_tz = pytz.timezone('America/Sao_Paulo')\n",
    "\n",
    "# Obtém a data e hora atual em GMT-3\n",
    "now_gmt3 = datetime.now(br_tz)\n",
    "\n",
    "yesterday_time_br = now_gmt3 #- timedelta(days=1)\n",
    "\n",
    "# Formata a data\n",
    "datepartition = yesterday_time_br.strftime(\"%Y-%m-%d\")\n",
    "\n",
    "print(datepartition)\n"
   ]
  },
  {
   "cell_type": "code",
   "execution_count": 8,
   "metadata": {},
   "outputs": [
    {
     "name": "stdout",
     "output_type": "stream",
     "text": [
      "+--------------------------+-------------------------+--------------------+---------------+------------------------+-----------------------+-------------------+---------------+----------------------+---------------------------+-------------------+-------------------+-----------------------------+--------------------+--------------------+\n",
      "|veiculo_horario_referencia|veiculo_letreiro_completo|veiculo_linha_codigo|veiculo_sentido|veiculo_letreiro_destino|veiculo_letreiro_origem|qtde_veiculos_linha|veiculo_prefixo|veiculo_acessibilidade|veiculo_horario_utc_captura|   veiculo_latitude|  veiculo_longitude|veiculo_horario_local_captura| tipo_operacao_linha|                  id|\n",
      "+--------------------------+-------------------------+--------------------+---------------+------------------------+-----------------------+-------------------+---------------+----------------------+---------------------------+-------------------+-------------------+-----------------------------+--------------------+--------------------+\n",
      "|       2024-09-20 11:11:00|                  3390-10|                 738|         Bairro|    TERM. PQ. D. PEDR...|             SÃO MATEUS|                  8|          52804|             Acessível|        2024-09-19 14:10:46| -23.58194351196289|-46.590492248535156|          2024-09-19 11:10:46|          Linha Base|0000318e05f9b12ba...|\n",
      "|       2024-09-20 04:45:00|                  5164-21|                1616|         Bairro|          PQ. IBIRAPUERA|            CID. LEONOR|                  5|          64484|             Acessível|        2024-09-19 07:45:07|-23.621736526489258|-46.639862060546875|          2024-09-19 04:45:07|Linha de Atendimento|0001c99b0e62cab5a...|\n",
      "|       2024-09-20 11:31:00|                  5290-10|               33365|         Centro|    TERM. PQ. D. PEDR...|           DIV. DIADEMA|                  9|          63288|             Acessível|        2024-09-19 14:31:26| -23.68085289001465| -46.63601303100586|          2024-09-19 11:31:26|          Linha Base|0001d65ac13468607...|\n",
      "|       2024-09-20 12:03:00|                  5154-10|                 353|         Bairro|     TERM. PRINC. ISABEL|       TERM. STO. AMARO|                  9|          76931|             Acessível|        2024-09-19 15:02:43|-23.627347946166992| -46.71116638183594|          2024-09-19 12:02:43|          Linha Base|0003f3230ce80bfb1...|\n",
      "|       2024-09-20 07:55:00|                  6913-10|               34233|         Centro|          TERM. BANDEIRA|         TERM. VARGINHA|                 12|          61325|             Acessível|        2024-09-19 10:54:54|-23.560035705566406|-46.654937744140625|          2024-09-19 07:54:54|          Linha Base|0004e50726ae6a11f...|\n",
      "|       2024-09-20 11:43:00|                  7016-10|               34886|         Centro|        TERM. STO. AMARO|             JD. ÂNGELA|                  7|          73481|             Acessível|        2024-09-19 14:43:13| -23.68907356262207|-46.773223876953125|          2024-09-19 11:43:13|          Linha Base|0004fb55c3d02715c...|\n",
      "|       2024-09-20 00:57:00|                  6000-10|               33908|         Centro|        TERM. STO. AMARO|      TERM. PARELHEIROS|                  6|          63567|             Acessível|        2024-09-19 03:56:52|-23.758485794067383|  -46.7150764465332|          2024-09-19 00:56:52|          Linha Base|0004fc179e000d6dc...|\n",
      "|       2024-09-20 06:55:00|                  2718-10|                 931|         Bairro|             METRÔ PENHA|             VL. SÍLVIA|                 10|          45221|             Acessível|        2024-09-19 09:54:51|-23.496580123901367|  -46.5146369934082|          2024-09-19 06:54:51|          Linha Base|00053e4be3d6f922d...|\n",
      "|       2024-09-20 11:27:00|                  8100-10|                1262|         Bairro|              TERM. LAPA|         TERM. PIRITUBA|                  5|          11441|             Acessível|        2024-09-19 14:27:20|-23.487215042114258| -46.72687530517578|          2024-09-19 11:27:20|          Linha Base|000541087c5c57262...|\n",
      "|       2024-09-20 12:01:00|                  8077-10|               34818|         Centro|         TERM. VL. SÔNIA|         JD. JOÃO XXIII|                  2|          80050|             Acessível|        2024-09-19 15:01:15|-23.601537704467773| -46.79182052612305|          2024-09-19 12:01:15|          Linha Base|00055c639515eebe4...|\n",
      "|       2024-09-20 23:37:00|                  3745-10|               33812|         Centro|           METRÔ TATUAPÉ|          JD. IMPERADOR|                  4|          45253|             Acessível|        2024-09-19 02:37:01| -23.53864288330078| -46.56538772583008|          2024-09-18 23:37:01|          Linha Base|000642311c65e121f...|\n",
      "|       2024-09-20 16:37:00|                  2182-10|               33468|         Centro|         PÇA. DO CORREIO|             JD. BRASIL|                 10|          21741|             Acessível|        2024-09-19 19:37:06|-23.547195434570312| -46.62446594238281|          2024-09-19 16:37:06|          Linha Base|000662921b8c04df3...|\n",
      "|       2024-09-20 09:15:00|                  2026-10|                2269|         Bairro|          PQ. NOVO MUNDO|                 JAÇANÃ|                  2|          22085|             Acessível|        2024-09-19 12:15:16|-23.461732864379883|  -46.5828857421875|          2024-09-19 09:15:16|          Linha Base|000664af5e5190778...|\n",
      "|       2024-09-20 00:17:00|                  407P-10|               34968|         Centro|           METRÔ TATUAPÉ|   TERM. CID. TIRADE...|                  3|          48141|             Acessível|        2024-09-19 03:17:04|-23.541492462158203| -46.41733169555664|          2024-09-19 00:17:04|          Linha Base|0006a143f324e7198...|\n",
      "|       2024-09-20 12:39:00|                  574A-10|                 602|         Bairro|            LGO. CAMBUCI|         AMERICANÓPOLIS|                  7|          64318|             Acessível|        2024-09-19 15:38:46|-23.622509002685547| -46.64002990722656|          2024-09-19 12:38:46|          Linha Base|0006d5d2fd084cda3...|\n",
      "|       2024-09-20 11:35:00|                  6200-10|                 355|         Bairro|          TERM. BANDEIRA|       TERM. STO. AMARO|                 14|          76324|             Acessível|        2024-09-19 14:35:06| -23.58230209350586| -46.68545150756836|          2024-09-19 11:35:06|          Linha Base|0006dd1a76b9b4750...|\n",
      "|       2024-09-20 19:29:00|                  342M-10|                 747|         Bairro|             TERM. PENHA|       TERM. SÃO MATEUS|                 15|          41551|             Acessível|        2024-09-19 22:28:52| -23.61385726928711| -46.47630310058594|          2024-09-19 19:28:52|          Linha Base|00073041fcc83e45a...|\n",
      "|       2024-09-20 07:57:00|                  2722-10|                 935|         Bairro|    METRÔ GUILHERMINA...|            JD. VERONIA|                  8|          45164|             Acessível|        2024-09-19 10:57:09|-23.515409469604492| -46.50457763671875|          2024-09-19 07:57:09|          Linha Base|00082ed1c6d141bd3...|\n",
      "|       2024-09-20 09:53:00|                  948A-10|                1423|         Bairro|       METRÔ BARRA FUNDA|               VL. ZATT|                  2|          10210|             Acessível|        2024-09-19 12:53:20|   -23.492431640625| -46.73211669921875|          2024-09-19 09:53:20|          Linha Base|00086967b1c2d1852...|\n",
      "|       2024-09-20 09:11:00|                  4732-31|               34895|         Centro|             METRÔ SAÚDE|            VL. LIVIERO|                  6|          51402|             Acessível|        2024-09-19 12:11:02|-23.646520614624023|-46.595523834228516|          2024-09-19 09:11:02|Outro tipo de ope...|00090c6fbf2e15e67...|\n",
      "+--------------------------+-------------------------+--------------------+---------------+------------------------+-----------------------+-------------------+---------------+----------------------+---------------------------+-------------------+-------------------+-----------------------------+--------------------+--------------------+\n",
      "only showing top 20 rows\n",
      "\n"
     ]
    }
   ],
   "source": [
    "from delta.tables import DeltaTable\n",
    "\n",
    "# Verificar se o diretório é uma tabela Delta\n",
    "if DeltaTable.isDeltaTable(spark, f'{trusted}/datepartition={datepartition}'):\n",
    "    df_all = spark.read.format(\"delta\").load(f'{trusted}/datepartition={datepartition}')\n",
    "    df_all.show()\n",
    "else:\n",
    "    print(\"O caminho especificado não contém uma tabela Delta válida.\")"
   ]
  },
  {
   "cell_type": "code",
   "execution_count": 9,
   "metadata": {},
   "outputs": [
    {
     "data": {
      "text/plain": [
       "4778778"
      ]
     },
     "execution_count": 9,
     "metadata": {},
     "output_type": "execute_result"
    }
   ],
   "source": [
    "df_all.count()"
   ]
  },
  {
   "cell_type": "code",
   "execution_count": 19,
   "metadata": {},
   "outputs": [],
   "source": [
    "# Configurações\n",
    "ES_URL = \"http://elasticsearch-otmzsp:9200\"  # URL do Elasticsearch\n",
    "KIBANA_URL = \"http://kibana-otmzsp:5601\"\n",
    "# Nome index pattern\n",
    "INDEX_NAME = \"posicoes\"  # Nome do índice\n",
    "INDEX_PATTERN_NAME = INDEX_NAME#+\"-*\""
   ]
  },
  {
   "cell_type": "code",
   "execution_count": 11,
   "metadata": {},
   "outputs": [],
   "source": [
    "try:\n",
    "    from elasticsearch import Elasticsearch\n",
    "except ImportError:\n",
    "    import subprocess\n",
    "    import sys\n",
    "    subprocess.check_call([sys.executable, \"-m\", \"pip\", \"install\", \"elasticsearch\"])\n",
    "    from elasticsearch import Elasticsearch\n"
   ]
  },
  {
   "cell_type": "code",
   "execution_count": 14,
   "metadata": {},
   "outputs": [
    {
     "name": "stdout",
     "output_type": "stream",
     "text": [
      "O índice 'posicoes8' já existe.\n"
     ]
    }
   ],
   "source": [
    "import requests\n",
    "\n",
    "# Conectar ao Elasticsearch\n",
    "es = Elasticsearch(ES_URL)  # ajuste a URL se necessário\n",
    "\n",
    "# Verificar se o índice existe\n",
    "if not es.indices.exists(index=INDEX_NAME):\n",
    "    # Mapeamento do índice\n",
    "    mapping = {\n",
    "        \"mappings\": {\n",
    "            \"properties\": {\n",
    "                \"veiculo_horario_referencia\": {\n",
    "                    \"type\": \"date\"\n",
    "                },\n",
    "                \"veiculo_letreiro_completo\": {\n",
    "                    \"type\": \"text\"\n",
    "                },\n",
    "                \"veiculo_linha_codigo\": {\n",
    "                    \"type\": \"long\"\n",
    "                },\n",
    "                \"veiculo_sentido\": {\n",
    "                    \"type\": \"text\"\n",
    "                },\n",
    "                \"veiculo_letreiro_destino\": {\n",
    "                    \"type\": \"text\"\n",
    "                },\n",
    "                \"veiculo_letreiro_origem\": {\n",
    "                    \"type\": \"text\"\n",
    "                },\n",
    "                \"qtde_veiculos_linha\": {\n",
    "                    \"type\": \"long\"\n",
    "                },\n",
    "                \"veiculo_prefixo\": {\n",
    "                    \"type\": \"long\"\n",
    "                },\n",
    "                \"veiculo_acessibilidade\": {\n",
    "                    \"type\": \"text\"\n",
    "                },\n",
    "                \"veiculo_horario_utc_captura\": {\n",
    "                    \"type\": \"date\"\n",
    "                },\n",
    "                \"veiculo_latitude\": {\n",
    "                    \"type\": \"float\"\n",
    "                },\n",
    "                \"veiculo_longitude\": {\n",
    "                    \"type\": \"float\"\n",
    "                },\n",
    "                \"veiculo_horario_local_captura\": {\n",
    "                    \"type\": \"date\"\n",
    "                },\n",
    "                \"tipo_operacao_linha\": {\n",
    "                    \"type\": \"text\"\n",
    "                }\n",
    "            }\n",
    "        }\n",
    "    }\n",
    "\n",
    "    # Criar o índice com o mapeamento\n",
    "    es.indices.create(index=INDEX_NAME, body=mapping)\n",
    "    print(f\"Índice '{INDEX_NAME}' criado com sucesso.\")\n",
    "else:\n",
    "    print(f\"O índice '{INDEX_NAME}' já existe.\")\n",
    "\n"
   ]
  },
  {
   "cell_type": "code",
   "execution_count": null,
   "metadata": {},
   "outputs": [],
   "source": [
    "from pyspark.sql import functions as F\n",
    "import requests\n",
    "import json\n",
    "\n",
    "# Supondo que df_final já contém a coluna 'veiculo_horario_referencia' (timestamp)\n",
    "\n",
    "# Criar colunas de data e hora a partir do campo de timestamp\n",
    "df_final_with_date = df_all.withColumn(\"day\", F.date_format(\"veiculo_horario_referencia\", \"yyyy-MM-dd\")) \\\n",
    "                           .withColumn(\"hour\", F.hour(\"veiculo_horario_referencia\"))\n",
    "\n",
    "# Obter dias e horas únicos\n",
    "unique_dates_hours = df_final_with_date.select(\"day\", \"hour\").distinct().collect()\n",
    "\n",
    "# Função para enviar dados para Elasticsearch\n",
    "BULK_SIZE = 10000  # Definir o tamanho do lote\n",
    "\n",
    "def insert_data_bulk(data):\n",
    "    bulk_data = \"\"\n",
    "    for document in data:\n",
    "        document = json.loads(document)\n",
    "        document_id = document.get(\"id\")  # Assumindo que o ID está no documento com a chave 'id'\n",
    "        bulk_data += f'{{ \"index\": {{ \"_index\": \"{INDEX_NAME}\", \"_id\": \"{document_id}\" }} }}' + '\\n'\n",
    "        bulk_data += f'{json.dumps(document)}' + '\\n'  # Serializa o documento de volta para JSON\n",
    "    \n",
    "    response = requests.post(f\"{ES_URL}/_bulk\", data=bulk_data.encode('utf-8'), headers={\"Content-Type\": \"application/x-ndjson\"})\n",
    "    \n",
    "    if response.status_code == 200:\n",
    "        response_data = response.json()\n",
    "        if not response_data[\"errors\"]:\n",
    "            print(f\"Dados enviados com sucesso para o Elasticsearch!\")\n",
    "        else:\n",
    "            print(f\"Erros ao enviar para o Elasticsearch: {response_data}\")\n",
    "    else:\n",
    "        print(f\"Erro ao enviar para o Elasticsearch: {response.text}\")\n",
    "\n",
    "# Loop pelos dias e horários únicos\n",
    "for row in unique_dates_hours:\n",
    "    day = row['day']\n",
    "    hour = row['hour']\n",
    "\n",
    "    # Filtrar o DataFrame para registros de um dia e hora específicos\n",
    "    df_filtered = df_final_with_date.filter((F.col(\"day\") == day) & (F.col(\"hour\") == hour))\n",
    "    \n",
    "    df_filtered = df_filtered.drop(\"day\", \"hour\")\n",
    "\n",
    "    # Converter o DataFrame para JSON\n",
    "    json_rdd = df_filtered.toJSON().collect()\n",
    "\n",
    "    # Dividir em lotes e enviar para o Elasticsearch\n",
    "    data_to_insert = []\n",
    "    for doc in json_rdd:\n",
    "        data_to_insert.append(doc)\n",
    "        \n",
    "        if len(data_to_insert) >= BULK_SIZE:\n",
    "            insert_data_bulk(data_to_insert)  # Enviar o lote\n",
    "            data_to_insert = []  # Limpar a lista\n",
    "    \n",
    "    # Enviar os dados restantes que não completaram um lote\n",
    "    if data_to_insert:\n",
    "        insert_data_bulk(data_to_insert)\n"
   ]
  },
  {
   "cell_type": "code",
   "execution_count": 21,
   "metadata": {},
   "outputs": [],
   "source": [
    "spark.stop()"
   ]
  }
 ],
 "metadata": {
  "kernelspec": {
   "display_name": "Python 3 (ipykernel)",
   "language": "python",
   "name": "python3"
  },
  "language_info": {
   "codemirror_mode": {
    "name": "ipython",
    "version": 3
   },
   "file_extension": ".py",
   "mimetype": "text/x-python",
   "name": "python",
   "nbconvert_exporter": "python",
   "pygments_lexer": "ipython3",
   "version": "3.11.6"
  }
 },
 "nbformat": 4,
 "nbformat_minor": 2
}
